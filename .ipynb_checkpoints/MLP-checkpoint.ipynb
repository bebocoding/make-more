{
 "cells": [
  {
   "cell_type": "code",
   "execution_count": 1,
   "id": "b7958def-b771-4c59-a98e-ecc626b275a7",
   "metadata": {},
   "outputs": [],
   "source": [
    "import torch\n",
    "import torch.nn.functional as F\n",
    "import matplotlib.pyplot as plt\n",
    "%matplotlib inline"
   ]
  },
  {
   "cell_type": "code",
   "execution_count": 3,
   "id": "0668a23b-e877-41b9-b75e-d65a830a000d",
   "metadata": {},
   "outputs": [
    {
     "data": {
      "text/plain": [
       "['emma', 'olivia', 'ava']"
      ]
     },
     "execution_count": 3,
     "metadata": {},
     "output_type": "execute_result"
    }
   ],
   "source": [
    "# read all words\n",
    "words = open('names.txt').read().splitlines()\n",
    "words[:3]"
   ]
  },
  {
   "cell_type": "code",
   "execution_count": 4,
   "id": "adce5711-6931-49ae-ade1-5d68d867c7fd",
   "metadata": {},
   "outputs": [
    {
     "data": {
      "text/plain": [
       "32033"
      ]
     },
     "execution_count": 4,
     "metadata": {},
     "output_type": "execute_result"
    }
   ],
   "source": [
    "len(words)"
   ]
  },
  {
   "cell_type": "code",
   "execution_count": 12,
   "id": "c2cc9587-b366-4800-9c89-da782027587c",
   "metadata": {},
   "outputs": [
    {
     "name": "stdout",
     "output_type": "stream",
     "text": [
      "{1: 'a', 2: 'b', 3: 'c', 4: 'd', 5: 'e', 6: 'f', 7: 'g', 8: 'h', 9: 'i', 10: 'j', 11: 'k', 12: 'l', 13: 'm', 14: 'n', 15: 'o', 16: 'p', 17: 'q', 18: 'r', 19: 's', 20: 't', 21: 'u', 22: 'v', 23: 'w', 24: 'x', 25: 'y', 26: 'z', 0: '.'}\n"
     ]
    }
   ],
   "source": [
    "# build vocabulary of charactars and mapping to/from integers\n",
    "chars = sorted(set(''.join(words)))\n",
    "stoi = {s:i+1 for i, s in enumerate(chars)}\n",
    "stoi['.'] = 0\n",
    "\n",
    "itos = {i:s for s, i in stoi.items()}\n",
    "print(itos)"
   ]
  },
  {
   "cell_type": "code",
   "execution_count": 132,
   "id": "2728daf9-8888-4eb6-a182-fc85f4588f18",
   "metadata": {},
   "outputs": [],
   "source": [
    "# build the datset\n",
    "batch_size = 3\n",
    "\n",
    "X, Y = [], []\n",
    "for w in words:\n",
    "    \n",
    "    # print(w)\n",
    "    context = [0] * batch_size\n",
    "    for c in w + '.':\n",
    "        idx = stoi[c]\n",
    "        X.append(context)\n",
    "        Y.append(idx)\n",
    "        # print(''.join(itos[i] for i in context), '---->', c)\n",
    "        context = context[1:] + [idx]\n",
    "\n",
    "X = torch.tensor(X)\n",
    "Y = torch.tensor(Y)\n",
    "        "
   ]
  },
  {
   "cell_type": "code",
   "execution_count": 29,
   "id": "e06cf5cf-9e27-4462-b115-a3d9790db72d",
   "metadata": {},
   "outputs": [
    {
     "data": {
      "text/plain": [
       "(torch.Size([32, 3]), torch.int64, torch.Size([32]), torch.int64)"
      ]
     },
     "execution_count": 29,
     "metadata": {},
     "output_type": "execute_result"
    }
   ],
   "source": [
    "X.shape, X.dtype, Y.shape, Y.dtype"
   ]
  },
  {
   "cell_type": "code",
   "execution_count": 53,
   "id": "d94d4207-820b-4364-9b91-d2085ba44ee3",
   "metadata": {},
   "outputs": [],
   "source": [
    "C = torch.randn((27, 2))"
   ]
  },
  {
   "cell_type": "code",
   "execution_count": 55,
   "id": "69a5eae6-172b-4894-9496-59f1a249f36f",
   "metadata": {},
   "outputs": [
    {
     "data": {
      "text/plain": [
       "torch.Size([32, 3, 2])"
      ]
     },
     "execution_count": 55,
     "metadata": {},
     "output_type": "execute_result"
    }
   ],
   "source": [
    "emb = C[X]\n",
    "emb.shape"
   ]
  },
  {
   "cell_type": "code",
   "execution_count": 56,
   "id": "ec17593c-e34c-4a05-a49e-d710aece791e",
   "metadata": {},
   "outputs": [],
   "source": [
    "W1 = torch.randn((6, 100))\n",
    "b1 = torch.randn(100)"
   ]
  },
  {
   "cell_type": "code",
   "execution_count": 73,
   "id": "c17aba03-44ed-4279-a894-70f0b18523a8",
   "metadata": {},
   "outputs": [
    {
     "data": {
      "text/plain": [
       "tensor([[-0.8481,  0.9984,  0.9237,  ..., -0.9521, -0.4219, -0.1763],\n",
       "        [-0.6089,  0.9994,  0.9979,  ..., -0.9619,  0.2693, -0.8520],\n",
       "        [-0.2949,  1.0000,  0.9840,  ..., -0.9921, -0.9050, -0.9179],\n",
       "        ...,\n",
       "        [ 0.8521,  0.9944, -0.7547,  ..., -1.0000, -0.2343, -0.9945],\n",
       "        [ 0.4022,  0.9356, -0.7752,  ...,  0.5564,  0.8799,  0.4698],\n",
       "        [ 0.8082,  0.9051,  0.9962,  ..., -0.7651,  0.9334, -0.5257]])"
      ]
     },
     "execution_count": 73,
     "metadata": {},
     "output_type": "execute_result"
    }
   ],
   "source": [
    "h = torch.tanh(emb.view((-1, 6)) @ W1 + b1)\n"
   ]
  },
  {
   "cell_type": "code",
   "execution_count": 80,
   "id": "38f9855c-0262-4dc1-a658-643077244a55",
   "metadata": {},
   "outputs": [
    {
     "data": {
      "text/plain": [
       "torch.Size([32, 100])"
      ]
     },
     "execution_count": 80,
     "metadata": {},
     "output_type": "execute_result"
    }
   ],
   "source": [
    "h.shape"
   ]
  },
  {
   "cell_type": "code",
   "execution_count": 76,
   "id": "2ebb704c-28ff-4659-9103-5b55af1a7559",
   "metadata": {},
   "outputs": [],
   "source": [
    "W2 = torch.randn((100, 27))\n",
    "b2 = torch.randn(27)"
   ]
  },
  {
   "cell_type": "code",
   "execution_count": 78,
   "id": "c8072dfd-5af2-41d3-8b03-8fe3ef426099",
   "metadata": {},
   "outputs": [],
   "source": [
    "logits = h @ W2 + b2"
   ]
  },
  {
   "cell_type": "code",
   "execution_count": 79,
   "id": "944706df-a941-40fe-848e-d1c52d0affdc",
   "metadata": {},
   "outputs": [
    {
     "data": {
      "text/plain": [
       "torch.Size([32, 27])"
      ]
     },
     "execution_count": 79,
     "metadata": {},
     "output_type": "execute_result"
    }
   ],
   "source": [
    "logits.shape"
   ]
  },
  {
   "cell_type": "code",
   "execution_count": 81,
   "id": "d98d6fad-8311-477b-a93a-1803b6f780f5",
   "metadata": {},
   "outputs": [],
   "source": [
    "counts = logits.exp()"
   ]
  },
  {
   "cell_type": "code",
   "execution_count": 83,
   "id": "1f7af337-2e39-4bb0-8e48-6652715502d4",
   "metadata": {},
   "outputs": [
    {
     "data": {
      "text/plain": [
       "tensor([[2.3012e-01, 8.5163e-11, 4.0191e-06, 3.2519e-02, 2.0536e-04, 1.3699e-03,\n",
       "         5.3536e-14, 1.3027e-05, 1.8940e-06, 6.0533e-03, 3.2789e-04, 4.5125e-07,\n",
       "         2.3771e-06, 8.9464e-10, 1.2299e-09, 4.5342e-06, 5.5216e-05, 6.9189e-03,\n",
       "         1.2800e-04, 4.7487e-03, 3.5014e-03, 1.0790e-04, 6.4943e-09, 7.1151e-01,\n",
       "         2.1315e-05, 2.3821e-03, 2.9759e-09],\n",
       "        [2.2083e-01, 2.1989e-14, 1.9087e-04, 6.7965e-01, 6.7064e-08, 3.8897e-05,\n",
       "         2.8001e-18, 1.8316e-09, 1.6319e-09, 1.7503e-05, 1.6328e-04, 1.1432e-08,\n",
       "         6.9715e-08, 8.3400e-13, 4.0987e-10, 2.0810e-11, 7.2222e-08, 3.6971e-07,\n",
       "         2.2960e-06, 1.0956e-05, 2.7130e-04, 1.4662e-09, 1.7018e-10, 9.8830e-02,\n",
       "         2.5872e-07, 4.8796e-11, 9.3859e-13],\n",
       "        [6.9613e-05, 1.4715e-15, 8.9132e-09, 1.3823e-05, 3.0317e-09, 3.8926e-07,\n",
       "         7.9862e-17, 5.4302e-12, 1.3510e-12, 8.5486e-07, 8.6776e-08, 6.2056e-12,\n",
       "         5.5811e-11, 4.1379e-19, 5.7534e-12, 2.4162e-14, 4.9995e-11, 4.5402e-06,\n",
       "         1.5609e-07, 1.8145e-08, 4.4264e-06, 3.9733e-10, 1.6865e-12, 9.9991e-01,\n",
       "         5.1851e-12, 1.0815e-12, 1.3782e-17],\n",
       "        [5.1512e-01, 1.5065e-13, 4.7387e-06, 2.1755e-03, 8.8734e-10, 9.3612e-02,\n",
       "         3.5059e-14, 1.8223e-12, 5.0902e-08, 7.9659e-07, 3.8135e-08, 4.1739e-10,\n",
       "         1.3903e-08, 4.3329e-13, 9.4581e-11, 9.9523e-09, 5.1533e-08, 1.2487e-03,\n",
       "         2.4342e-04, 2.6661e-07, 1.3574e-06, 3.3525e-12, 5.1558e-14, 3.8759e-01,\n",
       "         7.2900e-08, 1.6493e-11, 1.2585e-17],\n",
       "        [3.3041e-02, 2.4875e-13, 8.6908e-03, 1.3038e-01, 3.3830e-07, 6.3533e-02,\n",
       "         3.5590e-12, 7.8011e-07, 2.9926e-10, 2.9896e-07, 2.3090e-06, 8.8059e-09,\n",
       "         4.4751e-03, 2.7615e-07, 1.0606e-08, 6.4913e-09, 1.6837e-08, 1.1332e-01,\n",
       "         1.5144e-03, 8.4614e-06, 1.1849e-06, 1.1649e-10, 2.2653e-13, 6.4461e-01,\n",
       "         4.2133e-04, 2.9887e-12, 5.2182e-15],\n",
       "        [2.3012e-01, 8.5163e-11, 4.0191e-06, 3.2519e-02, 2.0536e-04, 1.3699e-03,\n",
       "         5.3536e-14, 1.3027e-05, 1.8940e-06, 6.0533e-03, 3.2789e-04, 4.5125e-07,\n",
       "         2.3771e-06, 8.9464e-10, 1.2299e-09, 4.5342e-06, 5.5216e-05, 6.9189e-03,\n",
       "         1.2800e-04, 4.7487e-03, 3.5014e-03, 1.0790e-04, 6.4943e-09, 7.1151e-01,\n",
       "         2.1315e-05, 2.3821e-03, 2.9759e-09],\n",
       "        [1.8377e-07, 1.3459e-12, 1.9025e-01, 1.3741e-08, 4.1536e-04, 2.2779e-14,\n",
       "         7.8089e-08, 6.1055e-04, 2.6632e-09, 1.1794e-10, 1.4686e-09, 1.3770e-09,\n",
       "         1.7917e-08, 7.5078e-01, 1.3824e-10, 2.0643e-04, 7.3155e-08, 2.5843e-02,\n",
       "         7.2801e-06, 1.2008e-03, 2.8636e-12, 1.4603e-05, 3.8435e-10, 6.9319e-09,\n",
       "         2.9734e-02, 8.7853e-04, 5.4919e-05],\n",
       "        [4.8128e-10, 9.0101e-12, 2.0627e-14, 7.3966e-05, 2.6379e-09, 4.3614e-11,\n",
       "         3.5179e-13, 3.5786e-11, 9.5206e-02, 2.8029e-04, 5.5148e-10, 1.3820e-13,\n",
       "         3.0936e-14, 1.3097e-16, 2.0574e-14, 7.9183e-09, 5.7383e-07, 4.3232e-16,\n",
       "         2.4596e-15, 4.8449e-10, 2.3390e-10, 7.7417e-07, 4.6018e-09, 6.8469e-15,\n",
       "         4.3106e-11, 6.0527e-06, 9.0443e-01],\n",
       "        [3.7330e-04, 1.7503e-12, 2.2793e-03, 1.4924e-08, 2.4471e-03, 1.7853e-15,\n",
       "         2.0758e-10, 1.1568e-04, 1.9050e-13, 1.3029e-09, 2.3189e-07, 9.3577e-06,\n",
       "         8.4961e-08, 1.1582e-05, 1.7937e-04, 9.0006e-08, 6.5751e-14, 2.4865e-09,\n",
       "         2.3653e-02, 9.3850e-01, 1.1547e-06, 7.8518e-09, 2.1380e-11, 2.2338e-07,\n",
       "         6.1170e-08, 8.3017e-08, 3.2433e-02],\n",
       "        [3.7085e-02, 4.1078e-10, 5.2591e-07, 1.4673e-04, 1.2271e-01, 1.7697e-05,\n",
       "         1.2898e-10, 6.6935e-04, 4.0673e-08, 1.8990e-03, 9.3170e-05, 8.3527e-09,\n",
       "         4.8122e-09, 6.8621e-10, 1.3482e-07, 4.0367e-10, 5.9161e-04, 9.6311e-04,\n",
       "         1.6802e-06, 5.4843e-03, 3.6964e-05, 7.8928e-01, 5.4117e-06, 1.7708e-06,\n",
       "         9.8979e-07, 1.8933e-05, 4.0992e-02],\n",
       "        [8.0999e-07, 1.1834e-11, 1.0981e-07, 9.5837e-08, 3.2210e-08, 1.1241e-12,\n",
       "         1.4547e-11, 1.6789e-03, 2.0060e-07, 2.6947e-12, 3.3041e-09, 2.3146e-05,\n",
       "         1.4239e-11, 4.8459e-04, 1.1976e-06, 3.3152e-03, 2.4368e-08, 3.3027e-09,\n",
       "         3.1716e-07, 1.0704e-05, 2.1342e-12, 3.8208e-11, 6.0198e-06, 4.1970e-13,\n",
       "         4.5708e-02, 7.5354e-05, 9.4870e-01],\n",
       "        [8.6323e-01, 1.1967e-11, 3.8182e-09, 1.5127e-04, 2.2554e-04, 3.2589e-07,\n",
       "         3.2964e-10, 1.6670e-08, 1.0113e-10, 2.1349e-08, 2.5089e-04, 1.6302e-08,\n",
       "         1.0393e-08, 7.3156e-17, 1.3508e-06, 3.7843e-12, 1.8189e-07, 9.5445e-09,\n",
       "         2.1605e-06, 2.5206e-02, 9.6145e-02, 4.2640e-06, 7.7935e-05, 5.3314e-07,\n",
       "         1.4075e-06, 3.0761e-09, 1.4707e-02],\n",
       "        [2.3012e-01, 8.5163e-11, 4.0191e-06, 3.2519e-02, 2.0536e-04, 1.3699e-03,\n",
       "         5.3536e-14, 1.3027e-05, 1.8940e-06, 6.0533e-03, 3.2789e-04, 4.5125e-07,\n",
       "         2.3771e-06, 8.9464e-10, 1.2299e-09, 4.5342e-06, 5.5216e-05, 6.9189e-03,\n",
       "         1.2800e-04, 4.7487e-03, 3.5014e-03, 1.0790e-04, 6.4943e-09, 7.1151e-01,\n",
       "         2.1315e-05, 2.3821e-03, 2.9759e-09],\n",
       "        [4.9173e-01, 1.4633e-14, 3.0285e-02, 4.2150e-01, 7.7981e-07, 9.2527e-06,\n",
       "         5.3009e-17, 1.2185e-07, 6.3127e-10, 1.4265e-06, 6.8896e-03, 1.6937e-08,\n",
       "         1.0757e-06, 2.0481e-10, 3.0635e-10, 4.0202e-11, 1.0787e-07, 3.7453e-07,\n",
       "         8.3315e-06, 1.2025e-04, 6.0262e-04, 4.3099e-10, 2.0701e-10, 4.8822e-02,\n",
       "         2.5053e-05, 1.2661e-11, 9.2611e-11],\n",
       "        [1.6641e-05, 1.3368e-12, 9.3763e-07, 4.2656e-06, 2.6053e-05, 4.4567e-08,\n",
       "         1.4144e-14, 9.7972e-07, 3.3489e-14, 5.4852e-07, 2.5616e-08, 1.4277e-10,\n",
       "         4.8028e-07, 5.6992e-11, 1.8873e-11, 3.8845e-10, 1.3049e-06, 9.4233e-01,\n",
       "         1.2666e-05, 4.8989e-05, 6.4463e-09, 1.0889e-07, 2.2279e-08, 5.7552e-02,\n",
       "         2.4238e-08, 2.3583e-07, 2.6021e-13],\n",
       "        [9.1269e-01, 4.5089e-11, 5.6663e-03, 6.3384e-02, 2.0233e-08, 5.8699e-03,\n",
       "         1.9293e-13, 4.3197e-09, 1.5876e-03, 1.2839e-07, 9.0681e-05, 4.4775e-07,\n",
       "         4.3078e-10, 7.5876e-11, 2.2465e-06, 2.4567e-05, 3.2349e-06, 1.4642e-08,\n",
       "         4.9720e-10, 5.7868e-07, 1.3012e-07, 8.4980e-10, 1.3990e-06, 5.4919e-08,\n",
       "         1.0677e-02, 4.2269e-10, 5.4752e-06],\n",
       "        [2.3012e-01, 8.5163e-11, 4.0191e-06, 3.2519e-02, 2.0536e-04, 1.3699e-03,\n",
       "         5.3536e-14, 1.3027e-05, 1.8940e-06, 6.0533e-03, 3.2789e-04, 4.5125e-07,\n",
       "         2.3771e-06, 8.9464e-10, 1.2299e-09, 4.5342e-06, 5.5216e-05, 6.9189e-03,\n",
       "         1.2800e-04, 4.7487e-03, 3.5014e-03, 1.0790e-04, 6.4943e-09, 7.1151e-01,\n",
       "         2.1315e-05, 2.3821e-03, 2.9759e-09],\n",
       "        [5.8584e-07, 3.4415e-16, 9.9972e-01, 7.0349e-09, 1.9599e-07, 3.5980e-13,\n",
       "         7.3489e-16, 9.6999e-06, 6.1887e-17, 2.0517e-13, 1.8908e-08, 4.1482e-13,\n",
       "         4.3876e-10, 1.8273e-06, 1.8155e-12, 1.9783e-07, 2.3515e-09, 1.5733e-06,\n",
       "         1.0342e-07, 6.2166e-05, 2.7161e-10, 5.1350e-10, 9.8507e-12, 2.2660e-08,\n",
       "         2.0315e-04, 1.8871e-10, 4.5838e-09],\n",
       "        [9.8860e-01, 1.1379e-13, 1.0984e-09, 4.4495e-05, 7.7807e-08, 1.2249e-05,\n",
       "         2.2996e-12, 5.1714e-12, 1.6504e-10, 4.9646e-09, 1.8789e-04, 1.3921e-08,\n",
       "         1.2792e-10, 5.2470e-21, 1.3199e-09, 1.2809e-14, 4.6083e-09, 1.3051e-11,\n",
       "         2.6352e-08, 1.7997e-07, 1.1130e-02, 1.1888e-09, 1.6455e-05, 3.9448e-09,\n",
       "         1.2566e-07, 9.4508e-13, 1.0029e-05],\n",
       "        [2.4062e-03, 9.7273e-13, 3.0300e-08, 1.8575e-06, 2.5024e-06, 8.1101e-06,\n",
       "         2.2117e-14, 1.3635e-06, 5.0869e-15, 1.5047e-09, 8.7026e-07, 9.3120e-05,\n",
       "         1.7392e-08, 3.4510e-10, 4.5512e-02, 6.5000e-11, 8.7971e-10, 7.6685e-02,\n",
       "         8.4285e-06, 3.2152e-03, 1.0616e-06, 9.9670e-16, 1.3020e-07, 8.7206e-01,\n",
       "         1.4685e-07, 3.1634e-14, 7.8349e-14],\n",
       "        [5.7397e-08, 1.9973e-07, 1.7644e-06, 9.2883e-08, 2.7229e-09, 3.2041e-10,\n",
       "         1.7602e-14, 2.0189e-09, 2.4523e-12, 5.0613e-16, 1.2150e-14, 1.0173e-10,\n",
       "         2.3657e-10, 6.2640e-04, 1.1319e-09, 1.1852e-07, 4.4785e-06, 9.9543e-01,\n",
       "         1.2781e-04, 1.4593e-07, 1.5147e-16, 4.7230e-14, 3.0779e-12, 1.9441e-13,\n",
       "         3.8097e-03, 1.1649e-11, 5.2008e-09],\n",
       "        [1.9220e-02, 6.2746e-06, 9.7688e-12, 4.9590e-06, 1.3566e-07, 1.8073e-01,\n",
       "         2.8963e-11, 4.5836e-12, 9.9322e-04, 2.2080e-07, 1.0025e-08, 6.0683e-05,\n",
       "         2.5045e-13, 2.3264e-15, 9.5820e-07, 7.7330e-10, 9.4551e-04, 1.5930e-13,\n",
       "         5.1376e-10, 4.3319e-07, 2.8632e-09, 1.3670e-06, 8.7913e-02, 1.2246e-11,\n",
       "         7.8741e-07, 1.3221e-05, 7.1011e-01],\n",
       "        [1.6011e-03, 3.2548e-09, 6.8470e-09, 2.8874e-06, 3.0462e-05, 1.5564e-05,\n",
       "         2.5818e-13, 2.0582e-03, 8.9004e-09, 4.0143e-04, 1.1182e-05, 3.2396e-03,\n",
       "         4.9112e-08, 1.8743e-08, 6.2478e-03, 3.3139e-07, 1.7201e-07, 2.8842e-03,\n",
       "         2.4295e-07, 1.4784e-04, 1.9287e-07, 2.1864e-06, 2.3302e-08, 9.8325e-01,\n",
       "         4.6339e-06, 9.9914e-05, 2.7363e-08],\n",
       "        [1.3329e-01, 1.5764e-09, 1.0403e-02, 2.9087e-01, 2.1959e-05, 2.4276e-01,\n",
       "         6.5720e-12, 8.0471e-08, 5.1012e-02, 1.3754e-03, 9.4880e-06, 1.5958e-04,\n",
       "         2.5603e-08, 2.6790e-09, 8.4562e-09, 2.6147e-01, 1.9913e-03, 4.6279e-03,\n",
       "         1.4629e-07, 7.5167e-06, 2.6253e-08, 9.5102e-06, 9.0966e-07, 1.1432e-03,\n",
       "         6.1112e-04, 2.3493e-04, 1.4470e-05],\n",
       "        [5.2034e-01, 2.1972e-13, 1.0241e-02, 4.2927e-01, 4.0383e-07, 5.4335e-07,\n",
       "         1.0887e-16, 2.4452e-06, 8.1405e-08, 4.8862e-06, 6.1658e-03, 1.5160e-08,\n",
       "         1.1010e-06, 3.9916e-11, 2.5105e-09, 3.2464e-11, 1.1274e-07, 1.0158e-08,\n",
       "         1.8670e-06, 5.4443e-03, 3.6790e-03, 6.1471e-08, 2.8372e-09, 2.4846e-02,\n",
       "         2.5871e-06, 6.2080e-11, 1.5861e-08],\n",
       "        [2.3012e-01, 8.5163e-11, 4.0191e-06, 3.2519e-02, 2.0536e-04, 1.3699e-03,\n",
       "         5.3536e-14, 1.3027e-05, 1.8940e-06, 6.0533e-03, 3.2789e-04, 4.5125e-07,\n",
       "         2.3771e-06, 8.9464e-10, 1.2299e-09, 4.5342e-06, 5.5216e-05, 6.9189e-03,\n",
       "         1.2800e-04, 4.7487e-03, 3.5014e-03, 1.0790e-04, 6.4943e-09, 7.1151e-01,\n",
       "         2.1315e-05, 2.3821e-03, 2.9759e-09],\n",
       "        [4.5341e-01, 1.3936e-14, 2.3353e-04, 5.4340e-01, 1.8415e-09, 1.0470e-06,\n",
       "         7.0381e-17, 3.1743e-11, 1.1877e-08, 2.4146e-06, 7.6013e-04, 1.3303e-08,\n",
       "         4.1339e-08, 2.0817e-14, 1.6348e-11, 7.0708e-13, 2.6007e-08, 1.2286e-09,\n",
       "         1.4806e-06, 1.3665e-07, 1.8061e-03, 3.9809e-14, 1.9461e-10, 3.7942e-04,\n",
       "         2.6731e-07, 7.3673e-14, 5.5038e-13],\n",
       "        [4.9579e-08, 1.5703e-13, 2.5992e-05, 1.3502e-11, 6.9245e-05, 1.4661e-13,\n",
       "         4.1206e-13, 1.8885e-06, 2.4102e-15, 9.6929e-13, 3.3861e-11, 9.3303e-11,\n",
       "         1.7993e-07, 1.9105e-02, 4.2682e-11, 3.0639e-11, 2.2488e-06, 9.8078e-01,\n",
       "         3.4596e-06, 8.0414e-06, 9.0685e-15, 9.6422e-08, 6.2847e-11, 1.4801e-06,\n",
       "         1.0018e-06, 1.0084e-07, 2.1249e-15],\n",
       "        [7.7354e-11, 1.4951e-08, 1.2085e-08, 3.6881e-08, 4.6404e-11, 7.9834e-06,\n",
       "         1.3709e-14, 1.9559e-12, 2.6168e-03, 4.1748e-13, 6.4228e-11, 3.3947e-10,\n",
       "         1.8132e-17, 8.9281e-14, 4.5487e-11, 5.1912e-09, 1.8689e-07, 1.9933e-19,\n",
       "         9.8406e-17, 2.7837e-10, 1.6088e-15, 3.1745e-13, 5.8628e-10, 1.6300e-14,\n",
       "         6.7464e-05, 2.5455e-07, 9.9731e-01],\n",
       "        [8.3871e-04, 1.8543e-09, 1.2458e-11, 1.6001e-09, 1.7081e-04, 1.9381e-10,\n",
       "         4.2259e-10, 2.5296e-08, 6.1579e-12, 1.2782e-08, 1.8088e-03, 1.0862e-06,\n",
       "         3.3427e-05, 3.6436e-13, 1.9600e-03, 7.6749e-12, 1.6196e-11, 1.2995e-05,\n",
       "         1.1654e-05, 9.7342e-01, 6.4747e-04, 1.5414e-08, 5.7311e-06, 2.1086e-02,\n",
       "         1.8592e-11, 1.3851e-07, 4.3224e-08],\n",
       "        [5.0026e-08, 3.4712e-10, 1.4133e-05, 3.1625e-07, 2.0629e-08, 2.5843e-09,\n",
       "         2.5909e-15, 1.0817e-07, 3.0864e-11, 2.3401e-15, 1.2861e-10, 5.1347e-09,\n",
       "         4.4613e-10, 5.8736e-04, 1.0272e-06, 3.3425e-06, 6.3780e-08, 9.6538e-01,\n",
       "         7.9655e-07, 5.4686e-07, 2.3656e-14, 3.4140e-14, 3.6314e-11, 7.0941e-10,\n",
       "         3.4013e-02, 6.6871e-12, 3.4174e-09],\n",
       "        [4.7678e-01, 1.0453e-08, 2.8247e-06, 4.5427e-03, 1.0847e-05, 9.5478e-02,\n",
       "         1.1315e-10, 1.0329e-09, 3.7468e-07, 1.9066e-09, 8.8972e-05, 7.4570e-06,\n",
       "         7.6639e-09, 1.0050e-12, 8.5672e-07, 1.5546e-08, 3.8205e-04, 3.8912e-07,\n",
       "         7.2293e-07, 4.0417e-03, 2.1090e-05, 4.0356e-07, 1.3615e-01, 3.2276e-07,\n",
       "         2.5244e-01, 1.6995e-07, 3.0055e-02]])"
      ]
     },
     "execution_count": 83,
     "metadata": {},
     "output_type": "execute_result"
    }
   ],
   "source": [
    "probs = counts / counts.sum(1, keepdims=True)\n",
    "probs"
   ]
  },
  {
   "cell_type": "code",
   "execution_count": 101,
   "id": "655f860f-bebf-49f8-b23e-c85b91932eb1",
   "metadata": {},
   "outputs": [
    {
     "data": {
      "text/plain": [
       "tensor(16.2675)"
      ]
     },
     "execution_count": 101,
     "metadata": {},
     "output_type": "execute_result"
    }
   ],
   "source": [
    "loss = -probs[torch.arange(X.shape[0]), Y].log().mean()\n",
    "loss"
   ]
  },
  {
   "cell_type": "markdown",
   "id": "09e287cb-0582-4188-b3af-595d4db103b3",
   "metadata": {},
   "source": [
    "# Made it Respectable "
   ]
  },
  {
   "cell_type": "code",
   "execution_count": 133,
   "id": "82681dc0-1e7d-45ec-8318-707060c33b75",
   "metadata": {},
   "outputs": [
    {
     "data": {
      "text/plain": [
       "(torch.Size([228146, 3]), torch.Size([228146]))"
      ]
     },
     "execution_count": 133,
     "metadata": {},
     "output_type": "execute_result"
    }
   ],
   "source": [
    "X.shape, Y.shape"
   ]
  },
  {
   "cell_type": "code",
   "execution_count": 249,
   "id": "4005b2b8-4cdd-4fc1-8562-dabf498dad8a",
   "metadata": {},
   "outputs": [],
   "source": [
    "# init\n",
    "C = torch.randn((27, 2))\n",
    "W1 = torch.randn((6, 100))\n",
    "b1 = torch.randn(100)\n",
    "W2 = torch.randn((100, 27))\n",
    "b2 = torch.randn(27)\n",
    "\n",
    "parameters = [C, W1, b1, W2, b2]"
   ]
  },
  {
   "cell_type": "code",
   "execution_count": 250,
   "id": "aef78089-9078-426b-8681-602abccd82ef",
   "metadata": {},
   "outputs": [
    {
     "data": {
      "text/plain": [
       "3481"
      ]
     },
     "execution_count": 250,
     "metadata": {},
     "output_type": "execute_result"
    }
   ],
   "source": [
    "sum(p.nelement() for p in parameters)"
   ]
  },
  {
   "cell_type": "code",
   "execution_count": 251,
   "id": "1fed1e79-e7f8-4a30-8507-72a87cdb191b",
   "metadata": {},
   "outputs": [],
   "source": [
    "for p in parameters:\n",
    "    p.requires_grad = True"
   ]
  },
  {
   "cell_type": "code",
   "execution_count": 246,
   "id": "7cd50b2a-a518-4535-882a-48e53b878101",
   "metadata": {},
   "outputs": [
    {
     "data": {
      "text/plain": [
       "tensor([0.0010, 0.0010, 0.0010, 0.0010, 0.0010, 0.0010, 0.0010, 0.0010, 0.0011,\n",
       "        0.0011, 0.0011, 0.0011, 0.0011, 0.0011, 0.0011, 0.0011, 0.0011, 0.0011,\n",
       "        0.0011, 0.0011, 0.0011, 0.0012, 0.0012, 0.0012, 0.0012, 0.0012, 0.0012,\n",
       "        0.0012, 0.0012, 0.0012, 0.0012, 0.0012, 0.0012, 0.0013, 0.0013, 0.0013,\n",
       "        0.0013, 0.0013, 0.0013, 0.0013, 0.0013, 0.0013, 0.0013, 0.0013, 0.0014,\n",
       "        0.0014, 0.0014, 0.0014, 0.0014, 0.0014, 0.0014, 0.0014, 0.0014, 0.0014,\n",
       "        0.0015, 0.0015, 0.0015, 0.0015, 0.0015, 0.0015, 0.0015, 0.0015, 0.0015,\n",
       "        0.0015, 0.0016, 0.0016, 0.0016, 0.0016, 0.0016, 0.0016, 0.0016, 0.0016,\n",
       "        0.0016, 0.0017, 0.0017, 0.0017, 0.0017, 0.0017, 0.0017, 0.0017, 0.0017,\n",
       "        0.0018, 0.0018, 0.0018, 0.0018, 0.0018, 0.0018, 0.0018, 0.0018, 0.0019,\n",
       "        0.0019, 0.0019, 0.0019, 0.0019, 0.0019, 0.0019, 0.0019, 0.0020, 0.0020,\n",
       "        0.0020, 0.0020, 0.0020, 0.0020, 0.0020, 0.0021, 0.0021, 0.0021, 0.0021,\n",
       "        0.0021, 0.0021, 0.0021, 0.0022, 0.0022, 0.0022, 0.0022, 0.0022, 0.0022,\n",
       "        0.0022, 0.0023, 0.0023, 0.0023, 0.0023, 0.0023, 0.0023, 0.0024, 0.0024,\n",
       "        0.0024, 0.0024, 0.0024, 0.0024, 0.0025, 0.0025, 0.0025, 0.0025, 0.0025,\n",
       "        0.0025, 0.0026, 0.0026, 0.0026, 0.0026, 0.0026, 0.0027, 0.0027, 0.0027,\n",
       "        0.0027, 0.0027, 0.0027, 0.0028, 0.0028, 0.0028, 0.0028, 0.0028, 0.0029,\n",
       "        0.0029, 0.0029, 0.0029, 0.0029, 0.0030, 0.0030, 0.0030, 0.0030, 0.0030,\n",
       "        0.0031, 0.0031, 0.0031, 0.0031, 0.0032, 0.0032, 0.0032, 0.0032, 0.0032,\n",
       "        0.0033, 0.0033, 0.0033, 0.0033, 0.0034, 0.0034, 0.0034, 0.0034, 0.0034,\n",
       "        0.0035, 0.0035, 0.0035, 0.0035, 0.0036, 0.0036, 0.0036, 0.0036, 0.0037,\n",
       "        0.0037, 0.0037, 0.0037, 0.0038, 0.0038, 0.0038, 0.0039, 0.0039, 0.0039,\n",
       "        0.0039, 0.0040, 0.0040, 0.0040, 0.0040, 0.0041, 0.0041, 0.0041, 0.0042,\n",
       "        0.0042, 0.0042, 0.0042, 0.0043, 0.0043, 0.0043, 0.0044, 0.0044, 0.0044,\n",
       "        0.0045, 0.0045, 0.0045, 0.0045, 0.0046, 0.0046, 0.0046, 0.0047, 0.0047,\n",
       "        0.0047, 0.0048, 0.0048, 0.0048, 0.0049, 0.0049, 0.0049, 0.0050, 0.0050,\n",
       "        0.0050, 0.0051, 0.0051, 0.0051, 0.0052, 0.0052, 0.0053, 0.0053, 0.0053,\n",
       "        0.0054, 0.0054, 0.0054, 0.0055, 0.0055, 0.0056, 0.0056, 0.0056, 0.0057,\n",
       "        0.0057, 0.0058, 0.0058, 0.0058, 0.0059, 0.0059, 0.0060, 0.0060, 0.0060,\n",
       "        0.0061, 0.0061, 0.0062, 0.0062, 0.0062, 0.0063, 0.0063, 0.0064, 0.0064,\n",
       "        0.0065, 0.0065, 0.0066, 0.0066, 0.0067, 0.0067, 0.0067, 0.0068, 0.0068,\n",
       "        0.0069, 0.0069, 0.0070, 0.0070, 0.0071, 0.0071, 0.0072, 0.0072, 0.0073,\n",
       "        0.0073, 0.0074, 0.0074, 0.0075, 0.0075, 0.0076, 0.0076, 0.0077, 0.0077,\n",
       "        0.0078, 0.0079, 0.0079, 0.0080, 0.0080, 0.0081, 0.0081, 0.0082, 0.0082,\n",
       "        0.0083, 0.0084, 0.0084, 0.0085, 0.0085, 0.0086, 0.0086, 0.0087, 0.0088,\n",
       "        0.0088, 0.0089, 0.0090, 0.0090, 0.0091, 0.0091, 0.0092, 0.0093, 0.0093,\n",
       "        0.0094, 0.0095, 0.0095, 0.0096, 0.0097, 0.0097, 0.0098, 0.0099, 0.0099,\n",
       "        0.0100, 0.0101, 0.0101, 0.0102, 0.0103, 0.0104, 0.0104, 0.0105, 0.0106,\n",
       "        0.0106, 0.0107, 0.0108, 0.0109, 0.0109, 0.0110, 0.0111, 0.0112, 0.0112,\n",
       "        0.0113, 0.0114, 0.0115, 0.0116, 0.0116, 0.0117, 0.0118, 0.0119, 0.0120,\n",
       "        0.0121, 0.0121, 0.0122, 0.0123, 0.0124, 0.0125, 0.0126, 0.0127, 0.0127,\n",
       "        0.0128, 0.0129, 0.0130, 0.0131, 0.0132, 0.0133, 0.0134, 0.0135, 0.0136,\n",
       "        0.0137, 0.0137, 0.0138, 0.0139, 0.0140, 0.0141, 0.0142, 0.0143, 0.0144,\n",
       "        0.0145, 0.0146, 0.0147, 0.0148, 0.0149, 0.0150, 0.0151, 0.0152, 0.0154,\n",
       "        0.0155, 0.0156, 0.0157, 0.0158, 0.0159, 0.0160, 0.0161, 0.0162, 0.0163,\n",
       "        0.0165, 0.0166, 0.0167, 0.0168, 0.0169, 0.0170, 0.0171, 0.0173, 0.0174,\n",
       "        0.0175, 0.0176, 0.0178, 0.0179, 0.0180, 0.0181, 0.0182, 0.0184, 0.0185,\n",
       "        0.0186, 0.0188, 0.0189, 0.0190, 0.0192, 0.0193, 0.0194, 0.0196, 0.0197,\n",
       "        0.0198, 0.0200, 0.0201, 0.0202, 0.0204, 0.0205, 0.0207, 0.0208, 0.0210,\n",
       "        0.0211, 0.0212, 0.0214, 0.0215, 0.0217, 0.0218, 0.0220, 0.0221, 0.0223,\n",
       "        0.0225, 0.0226, 0.0228, 0.0229, 0.0231, 0.0232, 0.0234, 0.0236, 0.0237,\n",
       "        0.0239, 0.0241, 0.0242, 0.0244, 0.0246, 0.0247, 0.0249, 0.0251, 0.0253,\n",
       "        0.0254, 0.0256, 0.0258, 0.0260, 0.0261, 0.0263, 0.0265, 0.0267, 0.0269,\n",
       "        0.0271, 0.0273, 0.0274, 0.0276, 0.0278, 0.0280, 0.0282, 0.0284, 0.0286,\n",
       "        0.0288, 0.0290, 0.0292, 0.0294, 0.0296, 0.0298, 0.0300, 0.0302, 0.0304,\n",
       "        0.0307, 0.0309, 0.0311, 0.0313, 0.0315, 0.0317, 0.0320, 0.0322, 0.0324,\n",
       "        0.0326, 0.0328, 0.0331, 0.0333, 0.0335, 0.0338, 0.0340, 0.0342, 0.0345,\n",
       "        0.0347, 0.0350, 0.0352, 0.0354, 0.0357, 0.0359, 0.0362, 0.0364, 0.0367,\n",
       "        0.0369, 0.0372, 0.0375, 0.0377, 0.0380, 0.0382, 0.0385, 0.0388, 0.0390,\n",
       "        0.0393, 0.0396, 0.0399, 0.0401, 0.0404, 0.0407, 0.0410, 0.0413, 0.0416,\n",
       "        0.0418, 0.0421, 0.0424, 0.0427, 0.0430, 0.0433, 0.0436, 0.0439, 0.0442,\n",
       "        0.0445, 0.0448, 0.0451, 0.0455, 0.0458, 0.0461, 0.0464, 0.0467, 0.0471,\n",
       "        0.0474, 0.0477, 0.0480, 0.0484, 0.0487, 0.0491, 0.0494, 0.0497, 0.0501,\n",
       "        0.0504, 0.0508, 0.0511, 0.0515, 0.0518, 0.0522, 0.0526, 0.0529, 0.0533,\n",
       "        0.0537, 0.0540, 0.0544, 0.0548, 0.0552, 0.0556, 0.0559, 0.0563, 0.0567,\n",
       "        0.0571, 0.0575, 0.0579, 0.0583, 0.0587, 0.0591, 0.0595, 0.0599, 0.0604,\n",
       "        0.0608, 0.0612, 0.0616, 0.0621, 0.0625, 0.0629, 0.0634, 0.0638, 0.0642,\n",
       "        0.0647, 0.0651, 0.0656, 0.0660, 0.0665, 0.0670, 0.0674, 0.0679, 0.0684,\n",
       "        0.0688, 0.0693, 0.0698, 0.0703, 0.0708, 0.0713, 0.0718, 0.0723, 0.0728,\n",
       "        0.0733, 0.0738, 0.0743, 0.0748, 0.0753, 0.0758, 0.0764, 0.0769, 0.0774,\n",
       "        0.0780, 0.0785, 0.0790, 0.0796, 0.0802, 0.0807, 0.0813, 0.0818, 0.0824,\n",
       "        0.0830, 0.0835, 0.0841, 0.0847, 0.0853, 0.0859, 0.0865, 0.0871, 0.0877,\n",
       "        0.0883, 0.0889, 0.0895, 0.0901, 0.0908, 0.0914, 0.0920, 0.0927, 0.0933,\n",
       "        0.0940, 0.0946, 0.0953, 0.0959, 0.0966, 0.0973, 0.0979, 0.0986, 0.0993,\n",
       "        0.1000, 0.1007, 0.1014, 0.1021, 0.1028, 0.1035, 0.1042, 0.1050, 0.1057,\n",
       "        0.1064, 0.1072, 0.1079, 0.1087, 0.1094, 0.1102, 0.1109, 0.1117, 0.1125,\n",
       "        0.1133, 0.1140, 0.1148, 0.1156, 0.1164, 0.1172, 0.1181, 0.1189, 0.1197,\n",
       "        0.1205, 0.1214, 0.1222, 0.1231, 0.1239, 0.1248, 0.1256, 0.1265, 0.1274,\n",
       "        0.1283, 0.1292, 0.1301, 0.1310, 0.1319, 0.1328, 0.1337, 0.1346, 0.1356,\n",
       "        0.1365, 0.1374, 0.1384, 0.1394, 0.1403, 0.1413, 0.1423, 0.1433, 0.1443,\n",
       "        0.1453, 0.1463, 0.1473, 0.1483, 0.1493, 0.1504, 0.1514, 0.1525, 0.1535,\n",
       "        0.1546, 0.1557, 0.1567, 0.1578, 0.1589, 0.1600, 0.1611, 0.1623, 0.1634,\n",
       "        0.1645, 0.1657, 0.1668, 0.1680, 0.1691, 0.1703, 0.1715, 0.1727, 0.1739,\n",
       "        0.1751, 0.1763, 0.1775, 0.1788, 0.1800, 0.1812, 0.1825, 0.1838, 0.1850,\n",
       "        0.1863, 0.1876, 0.1889, 0.1902, 0.1916, 0.1929, 0.1942, 0.1956, 0.1969,\n",
       "        0.1983, 0.1997, 0.2010, 0.2024, 0.2038, 0.2053, 0.2067, 0.2081, 0.2096,\n",
       "        0.2110, 0.2125, 0.2140, 0.2154, 0.2169, 0.2184, 0.2200, 0.2215, 0.2230,\n",
       "        0.2246, 0.2261, 0.2277, 0.2293, 0.2309, 0.2325, 0.2341, 0.2357, 0.2373,\n",
       "        0.2390, 0.2406, 0.2423, 0.2440, 0.2457, 0.2474, 0.2491, 0.2508, 0.2526,\n",
       "        0.2543, 0.2561, 0.2579, 0.2597, 0.2615, 0.2633, 0.2651, 0.2669, 0.2688,\n",
       "        0.2707, 0.2725, 0.2744, 0.2763, 0.2783, 0.2802, 0.2821, 0.2841, 0.2861,\n",
       "        0.2880, 0.2900, 0.2921, 0.2941, 0.2961, 0.2982, 0.3002, 0.3023, 0.3044,\n",
       "        0.3065, 0.3087, 0.3108, 0.3130, 0.3151, 0.3173, 0.3195, 0.3217, 0.3240,\n",
       "        0.3262, 0.3285, 0.3308, 0.3331, 0.3354, 0.3377, 0.3400, 0.3424, 0.3448,\n",
       "        0.3472, 0.3496, 0.3520, 0.3544, 0.3569, 0.3594, 0.3619, 0.3644, 0.3669,\n",
       "        0.3695, 0.3720, 0.3746, 0.3772, 0.3798, 0.3825, 0.3851, 0.3878, 0.3905,\n",
       "        0.3932, 0.3959, 0.3987, 0.4014, 0.4042, 0.4070, 0.4098, 0.4127, 0.4155,\n",
       "        0.4184, 0.4213, 0.4243, 0.4272, 0.4302, 0.4331, 0.4362, 0.4392, 0.4422,\n",
       "        0.4453, 0.4484, 0.4515, 0.4546, 0.4578, 0.4610, 0.4642, 0.4674, 0.4706,\n",
       "        0.4739, 0.4772, 0.4805, 0.4838, 0.4872, 0.4906, 0.4940, 0.4974, 0.5008,\n",
       "        0.5043, 0.5078, 0.5113, 0.5149, 0.5185, 0.5221, 0.5257, 0.5293, 0.5330,\n",
       "        0.5367, 0.5404, 0.5442, 0.5479, 0.5517, 0.5556, 0.5594, 0.5633, 0.5672,\n",
       "        0.5712, 0.5751, 0.5791, 0.5831, 0.5872, 0.5913, 0.5954, 0.5995, 0.6036,\n",
       "        0.6078, 0.6120, 0.6163, 0.6206, 0.6249, 0.6292, 0.6336, 0.6380, 0.6424,\n",
       "        0.6469, 0.6513, 0.6559, 0.6604, 0.6650, 0.6696, 0.6743, 0.6789, 0.6837,\n",
       "        0.6884, 0.6932, 0.6980, 0.7028, 0.7077, 0.7126, 0.7176, 0.7225, 0.7275,\n",
       "        0.7326, 0.7377, 0.7428, 0.7480, 0.7531, 0.7584, 0.7636, 0.7689, 0.7743,\n",
       "        0.7796, 0.7850, 0.7905, 0.7960, 0.8015, 0.8071, 0.8127, 0.8183, 0.8240,\n",
       "        0.8297, 0.8355, 0.8412, 0.8471, 0.8530, 0.8589, 0.8648, 0.8708, 0.8769,\n",
       "        0.8830, 0.8891, 0.8953, 0.9015, 0.9077, 0.9140, 0.9204, 0.9268, 0.9332,\n",
       "        0.9397, 0.9462, 0.9528, 0.9594, 0.9660, 0.9727, 0.9795, 0.9863, 0.9931,\n",
       "        1.0000])"
      ]
     },
     "execution_count": 246,
     "metadata": {},
     "output_type": "execute_result"
    }
   ],
   "source": [
    "lre = torch.linspace(-3, 0, 1000)\n",
    "lrs = 10**lre\n",
    "lrs"
   ]
  },
  {
   "cell_type": "code",
   "execution_count": 273,
   "id": "a5d08fec-666a-4a5e-ad1b-61d497657330",
   "metadata": {},
   "outputs": [],
   "source": [
    "lri = []\n",
    "lossi = []\n",
    "for i in range(10000):\n",
    "    # mini-batch\n",
    "    batch_idxs = torch.randint(0, X.shape[0], (32, ))\n",
    "    X_batch = X[batch_idxs]\n",
    "    Y_batch = Y[batch_idxs]\n",
    "    # forward pass\n",
    "    emb = C[X_batch]\n",
    "    h = torch.tanh(emb.view((-1, 6)) @ W1 + b1)\n",
    "    logits = h @ W2 + b2\n",
    "    loss = F.cross_entropy(logits, Y_batch)\n",
    "    # print(loss.item())\n",
    "    # backward pass\n",
    "    for p in parameters:\n",
    "        p.grad=None\n",
    "    loss.backward()\n",
    "\n",
    "    # update\n",
    "    # lr = lrs[i]\n",
    "    lr = 0.01\n",
    "    for p in parameters:\n",
    "        p.data += -lr * p.grad\n",
    "\n",
    "    # track stats\n",
    "    # lri.append(lre[i])\n",
    "    # lossi.append(loss.item())\n",
    "\n",
    "    \n",
    "# print(loss.item())"
   ]
  },
  {
   "cell_type": "code",
   "execution_count": 271,
   "id": "0fa8ca86-8ce6-4da3-9840-8f3d0d247205",
   "metadata": {},
   "outputs": [
    {
     "data": {
      "text/plain": [
       "[<matplotlib.lines.Line2D at 0x1dafc72ab40>]"
      ]
     },
     "execution_count": 271,
     "metadata": {},
     "output_type": "execute_result"
    },
    {
     "data": {
      "image/png": "[encoded data removed]",
      "text/plain": [
       "<Figure size 640x480 with 1 Axes>"
      ]
     },
     "metadata": {},
     "output_type": "display_data"
    }
   ],
   "source": [
    "plt.plot(lri, lossi)"
   ]
  },
  {
   "cell_type": "code",
   "execution_count": 274,
   "id": "a8fb955a-45fe-4429-b778-0684e16e2b65",
   "metadata": {},
   "outputs": [
    {
     "data": {
      "text/plain": [
       "tensor(2.2857, grad_fn=<NllLossBackward0>)"
      ]
     },
     "execution_count": 274,
     "metadata": {},
     "output_type": "execute_result"
    }
   ],
   "source": [
    "# loss for all datasets\n",
    "emb = C[X]\n",
    "h = torch.tanh(emb.view((-1, 6)) @ W1 + b1)\n",
    "logits = h @ W2 + b2\n",
    "loss = F.cross_entropy(logits, Y)\n",
    "loss"
   ]
  },
  {
   "cell_type": "code",
   "execution_count": null,
   "id": "f62b0cc1-08f4-4d86-9ed7-74568fe9c933",
   "metadata": {},
   "outputs": [],
   "source": []
  }
 ],
 "metadata": {
  "kernelspec": {
   "display_name": "Python 3 (ipykernel)",
   "language": "python",
   "name": "python3"
  },
  "language_info": {
   "codemirror_mode": {
    "name": "ipython",
    "version": 3
   },
   "file_extension": ".py",
   "mimetype": "text/x-python",
   "name": "python",
   "nbconvert_exporter": "python",
   "pygments_lexer": "ipython3",
   "version": "3.12.0"
  }
 },
 "nbformat": 4,
 "nbformat_minor": 5
}
