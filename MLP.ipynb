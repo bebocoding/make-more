{
 "cells": [
  {
   "cell_type": "code",
   "execution_count": 1,
   "id": "b7958def-b771-4c59-a98e-ecc626b275a7",
   "metadata": {},
   "outputs": [],
   "source": [
    "# imports\n",
    "import torch\n",
    "import torch.nn.functional as F\n",
    "import matplotlib.pyplot as plt\n",
    "%matplotlib inline"
   ]
  },
  {
   "cell_type": "code",
   "execution_count": 2,
   "id": "0668a23b-e877-41b9-b75e-d65a830a000d",
   "metadata": {},
   "outputs": [
    {
     "data": {
      "text/plain": [
       "['emma', 'olivia', 'ava', 'isabella', 'sophia', 'charlotte', 'mia']"
      ]
     },
     "execution_count": 2,
     "metadata": {},
     "output_type": "execute_result"
    }
   ],
   "source": [
    "# read all words\n",
    "words = open('names.txt').read().splitlines()\n",
    "words[:7]"
   ]
  },
  {
   "cell_type": "code",
   "execution_count": 3,
   "id": "adce5711-6931-49ae-ade1-5d68d867c7fd",
   "metadata": {},
   "outputs": [
    {
     "data": {
      "text/plain": [
       "32033"
      ]
     },
     "execution_count": 3,
     "metadata": {},
     "output_type": "execute_result"
    }
   ],
   "source": [
    "len(words)"
   ]
  },
  {
   "cell_type": "code",
   "execution_count": 4,
   "id": "c2cc9587-b366-4800-9c89-da782027587c",
   "metadata": {},
   "outputs": [
    {
     "name": "stdout",
     "output_type": "stream",
     "text": [
      "{1: 'a', 2: 'b', 3: 'c', 4: 'd', 5: 'e', 6: 'f', 7: 'g', 8: 'h', 9: 'i', 10: 'j', 11: 'k', 12: 'l', 13: 'm', 14: 'n', 15: 'o', 16: 'p', 17: 'q', 18: 'r', 19: 's', 20: 't', 21: 'u', 22: 'v', 23: 'w', 24: 'x', 25: 'y', 26: 'z', 0: '.'}\n"
     ]
    }
   ],
   "source": [
    "# build vocabulary of charactars and mapping to/from integers(indexes)\n",
    "chars = sorted(set(''.join(words)))\n",
    "stoi = {s:i+1 for i, s in enumerate(chars)} # map from charactors to integers\n",
    "stoi['.'] = 0 # '.' will be a special character indicating word end\n",
    "\n",
    "itos = {i:s for s, i in stoi.items()} # map from integers to characters\n",
    "print(itos)"
   ]
  },
  {
   "cell_type": "code",
   "execution_count": 5,
   "id": "2728daf9-8888-4eb6-a182-fc85f4588f18",
   "metadata": {},
   "outputs": [],
   "source": [
    "# build the datset\n",
    "batch_size = 3 # character context size: how many characters it takes to predict the next character\n",
    "\n",
    "X, Y = [], []\n",
    "for w in words:\n",
    "    \n",
    "    # print(w)\n",
    "    context = [0] * batch_size\n",
    "    for c in w + '.':\n",
    "        idx = stoi[c]\n",
    "        X.append(context)\n",
    "        Y.append(idx)\n",
    "        # print(''.join(itos[i] for i in context), '---->', c)\n",
    "        context = context[1:] + [idx]\n",
    "\n",
    "X = torch.tensor(X)\n",
    "Y = torch.tensor(Y)\n",
    "        "
   ]
  },
  {
   "cell_type": "code",
   "execution_count": 6,
   "id": "e06cf5cf-9e27-4462-b115-a3d9790db72d",
   "metadata": {},
   "outputs": [
    {
     "data": {
      "text/plain": [
       "(torch.Size([228146, 3]), torch.int64, torch.Size([228146]), torch.int64)"
      ]
     },
     "execution_count": 6,
     "metadata": {},
     "output_type": "execute_result"
    }
   ],
   "source": [
    "X.shape, X.dtype, Y.shape, Y.dtype"
   ]
  },
  {
   "cell_type": "code",
   "execution_count": 7,
   "id": "d94d4207-820b-4364-9b91-d2085ba44ee3",
   "metadata": {},
   "outputs": [],
   "source": [
    "C = torch.randn((27, 2)) # our embedding matrix: represent all 27 characters into 2-dimensional space"
   ]
  },
  {
   "cell_type": "code",
   "execution_count": 8,
   "id": "69a5eae6-172b-4894-9496-59f1a249f36f",
   "metadata": {},
   "outputs": [
    {
     "data": {
      "text/plain": [
       "torch.Size([228146, 3, 2])"
      ]
     },
     "execution_count": 8,
     "metadata": {},
     "output_type": "execute_result"
    }
   ],
   "source": [
    "emb = C[X] # input embeddings\n",
    "emb.shape"
   ]
  },
  {
   "cell_type": "code",
   "execution_count": 9,
   "id": "ec17593c-e34c-4a05-a49e-d710aece791e",
   "metadata": {},
   "outputs": [],
   "source": [
    "W1 = torch.randn((6, 100)) # first layer of weights and biases\n",
    "b1 = torch.randn(100)"
   ]
  },
  {
   "cell_type": "code",
   "execution_count": 10,
   "id": "c17aba03-44ed-4279-a894-70f0b18523a8",
   "metadata": {},
   "outputs": [
    {
     "data": {
      "text/plain": [
       "tensor([[ 0.4843,  0.3921,  0.0321,  ...,  0.0091, -0.6719, -0.6490],\n",
       "        [ 0.7270,  0.6158,  0.0216,  ...,  0.0687, -0.9624, -0.1872],\n",
       "        [ 0.2245, -0.1061, -0.7698,  ...,  0.9690,  0.9435, -0.4779],\n",
       "        ...,\n",
       "        [ 0.5037,  0.9987, -0.4474,  ..., -0.9991, -0.9992, -0.8569],\n",
       "        [-0.2407,  0.9977, -0.9914,  ..., -0.8586,  0.6278, -0.9866],\n",
       "        [-0.8057,  0.7584,  0.9877,  ..., -0.9997, -0.8174, -0.9996]])"
      ]
     },
     "execution_count": 10,
     "metadata": {},
     "output_type": "execute_result"
    }
   ],
   "source": [
    "h = torch.tanh(emb.view((-1, 6)) @ W1 + b1) # combining the embedding vectors for each previous character into a single vector\n",
    "h"
   ]
  },
  {
   "cell_type": "code",
   "execution_count": 11,
   "id": "38f9855c-0262-4dc1-a658-643077244a55",
   "metadata": {},
   "outputs": [
    {
     "data": {
      "text/plain": [
       "torch.Size([228146, 100])"
      ]
     },
     "execution_count": 11,
     "metadata": {},
     "output_type": "execute_result"
    }
   ],
   "source": [
    "h.shape"
   ]
  },
  {
   "cell_type": "code",
   "execution_count": 12,
   "id": "2ebb704c-28ff-4659-9103-5b55af1a7559",
   "metadata": {},
   "outputs": [],
   "source": [
    "W2 = torch.randn((100, 27)) # output layer: a vector representing all the possible 27 next characters\n",
    "b2 = torch.randn(27)"
   ]
  },
  {
   "cell_type": "code",
   "execution_count": 13,
   "id": "c8072dfd-5af2-41d3-8b03-8fe3ef426099",
   "metadata": {},
   "outputs": [],
   "source": [
    "logits = h @ W2 + b2"
   ]
  },
  {
   "cell_type": "code",
   "execution_count": 14,
   "id": "944706df-a941-40fe-848e-d1c52d0affdc",
   "metadata": {},
   "outputs": [
    {
     "data": {
      "text/plain": [
       "torch.Size([228146, 27])"
      ]
     },
     "execution_count": 14,
     "metadata": {},
     "output_type": "execute_result"
    }
   ],
   "source": [
    "logits.shape"
   ]
  },
  {
   "cell_type": "code",
   "execution_count": 15,
   "id": "d98d6fad-8311-477b-a93a-1803b6f780f5",
   "metadata": {},
   "outputs": [],
   "source": [
    "counts = logits.exp()"
   ]
  },
  {
   "cell_type": "code",
   "execution_count": 16,
   "id": "1f7af337-2e39-4bb0-8e48-6652715502d4",
   "metadata": {},
   "outputs": [
    {
     "data": {
      "text/plain": [
       "tensor([[2.6105e-07, 1.0027e-16, 6.4176e-11,  ..., 5.1319e-09, 2.2159e-05,\n",
       "         1.0522e-04],\n",
       "        [4.3495e-05, 1.1859e-16, 2.1035e-09,  ..., 6.4457e-08, 2.7817e-06,\n",
       "         7.2749e-05],\n",
       "        [2.9456e-08, 1.6276e-14, 2.6064e-10,  ..., 5.8808e-09, 1.4014e-01,\n",
       "         1.2946e-01],\n",
       "        ...,\n",
       "        [9.0579e-08, 2.9014e-13, 5.6117e-06,  ..., 1.6473e-03, 1.9170e-06,\n",
       "         1.6814e-08],\n",
       "        [2.6495e-14, 3.7616e-20, 7.0533e-13,  ..., 1.1315e-13, 9.8546e-01,\n",
       "         1.5922e-10],\n",
       "        [9.7671e-11, 3.3264e-12, 3.5519e-08,  ..., 1.1095e-09, 9.8285e-12,\n",
       "         8.3744e-11]])"
      ]
     },
     "execution_count": 16,
     "metadata": {},
     "output_type": "execute_result"
    }
   ],
   "source": [
    "probs = counts / counts.sum(1, keepdims=True) # make a probability distribution\n",
    "probs"
   ]
  },
  {
   "cell_type": "code",
   "execution_count": 17,
   "id": "655f860f-bebf-49f8-b23e-c85b91932eb1",
   "metadata": {},
   "outputs": [
    {
     "data": {
      "text/plain": [
       "tensor(18.0217)"
      ]
     },
     "execution_count": 17,
     "metadata": {},
     "output_type": "execute_result"
    }
   ],
   "source": [
    "loss = -probs[torch.arange(X.shape[0]), Y].log().mean() # loss: average negative log likelihood loss for the correct labels only\n",
    "loss"
   ]
  },
  {
   "cell_type": "code",
   "execution_count": 18,
   "id": "0671a53b-0b29-4d08-94cb-8eada80c7eb8",
   "metadata": {},
   "outputs": [
    {
     "data": {
      "text/plain": [
       "tensor(18.0217)"
      ]
     },
     "execution_count": 18,
     "metadata": {},
     "output_type": "execute_result"
    }
   ],
   "source": [
    "# we can use cross-entropy function in pytorch combine log-likelihood steps into one step\n",
    "\n",
    "# counts = logits.exp()\n",
    "# probs = counts / counts.sum(1, keepdims=True) \n",
    "# loss = -probs[torch.arange(X.shape[0]), Y].log().mean() \n",
    "loss = F.cross_entropy(logits, Y) # it is faster, and numerically save(handle well large exponents that could reach inf.)\n",
    "loss"
   ]
  },
  {
   "cell_type": "code",
   "execution_count": 19,
   "id": "c141e57b-9ed7-4458-b93f-cad408afd9b0",
   "metadata": {},
   "outputs": [],
   "source": [
    "# --- organized our work :), ready for training ---"
   ]
  },
  {
   "cell_type": "code",
   "execution_count": 39,
   "id": "b1a187f7-1082-4092-b71c-c107be485853",
   "metadata": {},
   "outputs": [
    {
     "data": {
      "text/plain": [
       "(torch.Size([228146, 3]), torch.Size([228146]))"
      ]
     },
     "execution_count": 39,
     "metadata": {},
     "output_type": "execute_result"
    }
   ],
   "source": [
    "X.shape, Y.shape"
   ]
  },
  {
   "cell_type": "code",
   "execution_count": 82,
   "id": "4005b2b8-4cdd-4fc1-8562-dabf498dad8a",
   "metadata": {},
   "outputs": [],
   "source": [
    "# initialize the neural network pa\n",
    "C = torch.randn((27, 2))\n",
    "W1 = torch.randn((6, 100))\n",
    "b1 = torch.randn(100)\n",
    "W2 = torch.randn((100, 27))\n",
    "b2 = torch.randn(27)\n",
    "\n",
    "parameters = [C, W1, b1, W2, b2]"
   ]
  },
  {
   "cell_type": "code",
   "execution_count": 83,
   "id": "aef78089-9078-426b-8681-602abccd82ef",
   "metadata": {},
   "outputs": [
    {
     "name": "stdout",
     "output_type": "stream",
     "text": [
      "total number of parameters: 3481\n"
     ]
    }
   ],
   "source": [
    "print(\"total number of parameters:\", sum(p.nelement() for p in parameters))"
   ]
  },
  {
   "cell_type": "code",
   "execution_count": 84,
   "id": "1fed1e79-e7f8-4a30-8507-72a87cdb191b",
   "metadata": {},
   "outputs": [],
   "source": [
    "for p in parameters: # reset the gradients\n",
    "    p.requires_grad = True"
   ]
  },
  {
   "cell_type": "code",
   "execution_count": 85,
   "id": "cb349b5b-1d71-4d0c-84fa-a6970d8052dc",
   "metadata": {},
   "outputs": [],
   "source": [
    "# make a function to use later\n",
    "def initialize_network():\n",
    "    C = torch.randn((27, 2))\n",
    "    W1 = torch.randn((6, 100))\n",
    "    b1 = torch.randn(100)\n",
    "    W2 = torch.randn((100, 27))\n",
    "    b2 = torch.randn(27)\n",
    "    \n",
    "    parameters = [C, W1, b1, W2, b2]\n",
    "\n",
    "    for p in parameters: # reset the gradients\n",
    "        p.requires_grad = True"
   ]
  },
  {
   "cell_type": "code",
   "execution_count": 86,
   "id": "a0328f46-329a-4bc8-8933-9bfeaf50e799",
   "metadata": {},
   "outputs": [
    {
     "name": "stdout",
     "output_type": "stream",
     "text": [
      "18.426721572875977\n",
      "16.81965446472168\n",
      "15.609461784362793\n",
      "14.546439170837402\n",
      "13.684614181518555\n",
      "13.110270500183105\n",
      "12.721434593200684\n",
      "12.754218101501465\n",
      "11.748623847961426\n",
      "11.135844230651855\n",
      "10.736065864562988\n",
      "10.341464042663574\n",
      "10.036140441894531\n",
      "9.497637748718262\n",
      "9.150259017944336\n",
      "8.790803909301758\n",
      "8.503925323486328\n",
      "8.187623023986816\n",
      "7.946229457855225\n",
      "7.675705432891846\n",
      "7.4719696044921875\n",
      "7.224559783935547\n",
      "7.058150768280029\n",
      "6.8199076652526855\n",
      "6.686949729919434\n",
      "6.458673000335693\n",
      "6.3548479080200195\n",
      "6.1442413330078125\n",
      "6.065235137939453\n",
      "5.869753360748291\n",
      "5.806467056274414\n",
      "5.627385139465332\n",
      "5.572943210601807\n",
      "5.412596702575684\n",
      "5.363518238067627\n",
      "5.221881866455078\n",
      "5.175706386566162\n",
      "5.051942825317383\n",
      "5.006772518157959\n",
      "4.898983001708984\n",
      "4.853638648986816\n",
      "4.759729862213135\n",
      "4.713759899139404\n",
      "4.6317458152771\n",
      "4.584976673126221\n",
      "4.513268947601318\n",
      "4.4662275314331055\n",
      "4.403817176818848\n",
      "4.357509613037109\n",
      "4.303915023803711\n",
      "4.259396076202393\n",
      "4.21376895904541\n",
      "4.171821117401123\n",
      "4.1332173347473145\n",
      "4.094102382659912\n",
      "4.061251163482666\n",
      "4.024899005889893\n",
      "3.9966392517089844\n",
      "3.962893009185791\n",
      "3.9383671283721924\n",
      "3.906870126724243\n",
      "3.885270118713379\n",
      "3.855642557144165\n",
      "3.836306095123291\n",
      "3.808197498321533\n",
      "3.7906196117401123\n",
      "3.763887643814087\n",
      "3.747670888900757\n",
      "3.722228527069092\n",
      "3.7070651054382324\n",
      "3.6829185485839844\n",
      "3.6686532497406006\n",
      "3.645801305770874\n",
      "3.632291078567505\n",
      "3.610677480697632\n",
      "3.5977983474731445\n",
      "3.577467918395996\n",
      "3.5652222633361816\n",
      "3.546105146408081\n",
      "3.5343759059906006\n",
      "3.516481399536133\n",
      "3.505290985107422\n",
      "3.4885733127593994\n",
      "3.4778788089752197\n",
      "3.462278366088867\n",
      "3.452042818069458\n",
      "3.437530517578125\n",
      "3.427743434906006\n",
      "3.414271354675293\n",
      "3.404914140701294\n",
      "3.3923871517181396\n",
      "3.383436441421509\n",
      "3.3718109130859375\n",
      "3.363241672515869\n",
      "3.3524413108825684\n",
      "3.344241142272949\n",
      "3.3342032432556152\n",
      "3.3263609409332275\n",
      "3.317023754119873\n",
      "3.3095178604125977\n"
     ]
    }
   ],
   "source": [
    "# training the full data set\n",
    "for i in range(100):\n",
    "    # forward pass\n",
    "    emb = C[X]\n",
    "    h = torch.tanh(emb.view((-1, 6)) @ W1 + b1)\n",
    "    logits = h @ W2 + b2\n",
    "    loss = F.cross_entropy(logits, Y)\n",
    "    print(loss.item())\n",
    "    \n",
    "    # backward pass\n",
    "    for p in parameters:\n",
    "        p.grad=None\n",
    "    loss.backward()\n",
    "\n",
    "    # update\n",
    "    for p in parameters:\n",
    "        p.data += -0.1 * p.grad\n",
    "        \n",
    "# print(loss.item())"
   ]
  },
  {
   "cell_type": "code",
   "execution_count": 91,
   "id": "6212da4f-369f-4b65-89a8-88b604795ec1",
   "metadata": {},
   "outputs": [
    {
     "name": "stdout",
     "output_type": "stream",
     "text": [
      "3.8107967376708984\n",
      "2.7966599464416504\n",
      "3.0431041717529297\n",
      "3.012333631515503\n",
      "3.091721773147583\n",
      "3.2076873779296875\n",
      "3.2112953662872314\n",
      "2.9657156467437744\n",
      "2.8400588035583496\n",
      "3.5347228050231934\n",
      "3.0516116619110107\n",
      "2.836212635040283\n",
      "3.169888734817505\n",
      "3.2275328636169434\n",
      "3.044888734817505\n",
      "3.8744142055511475\n",
      "2.997924327850342\n",
      "2.72920823097229\n",
      "3.6521694660186768\n",
      "3.03806209564209\n",
      "3.18325138092041\n",
      "3.046625852584839\n",
      "3.1046299934387207\n",
      "3.0213146209716797\n",
      "2.898686647415161\n",
      "3.1912763118743896\n",
      "3.1621406078338623\n",
      "2.871431350708008\n",
      "3.1278131008148193\n",
      "3.565725564956665\n",
      "2.9411797523498535\n",
      "2.894089937210083\n",
      "3.022932529449463\n",
      "2.887626886367798\n",
      "2.832122564315796\n",
      "2.917869806289673\n",
      "2.986151695251465\n",
      "2.8361494541168213\n",
      "2.931771755218506\n",
      "2.922860860824585\n",
      "3.0808768272399902\n",
      "2.9371085166931152\n",
      "2.9686315059661865\n",
      "3.274595260620117\n",
      "2.6723008155822754\n",
      "3.064596176147461\n",
      "2.807950735092163\n",
      "2.9485254287719727\n",
      "2.9015719890594482\n",
      "3.0357236862182617\n",
      "2.9395556449890137\n",
      "2.780923366546631\n",
      "2.6693544387817383\n",
      "3.2382709980010986\n",
      "2.7452657222747803\n",
      "2.845703125\n",
      "2.831146001815796\n",
      "3.5878148078918457\n",
      "2.448410987854004\n",
      "3.283842086791992\n",
      "3.004042625427246\n",
      "2.8268604278564453\n",
      "3.247990608215332\n",
      "3.2083866596221924\n",
      "3.14762020111084\n",
      "3.300999402999878\n",
      "2.7506766319274902\n",
      "3.296633720397949\n",
      "2.699167251586914\n",
      "3.2098703384399414\n",
      "3.0394322872161865\n",
      "2.8286890983581543\n",
      "2.8787786960601807\n",
      "2.7376091480255127\n",
      "2.9400792121887207\n",
      "3.067040205001831\n",
      "3.0147557258605957\n",
      "2.832772970199585\n",
      "3.569272756576538\n",
      "3.3906595706939697\n",
      "3.1071524620056152\n",
      "2.8238015174865723\n",
      "3.137855052947998\n",
      "2.8118929862976074\n",
      "2.837350606918335\n",
      "3.0672779083251953\n",
      "3.049229145050049\n",
      "3.0781116485595703\n",
      "2.8841588497161865\n",
      "3.060408353805542\n",
      "2.901214599609375\n",
      "2.9668972492218018\n",
      "2.8873021602630615\n",
      "3.632342576980591\n",
      "3.329692840576172\n",
      "2.836597204208374\n",
      "2.957244396209717\n",
      "2.893131971359253\n",
      "3.290269136428833\n",
      "3.42840838432312\n"
     ]
    }
   ],
   "source": [
    "# that's alot of time for just 100 iterations; since we are taking all 228146 examples at once!\n",
    "# next is to divide the training set into random batches for training\n",
    "\n",
    "initialize_network()\n",
    "\n",
    "for i in range(100):\n",
    "    # take a mini-batch\n",
    "    batch_size = 32\n",
    "    batch_idxs = torch.randint(0, X.shape[0], (batch_size, ))\n",
    "    X_batch = X[batch_idxs]\n",
    "    Y_batch = Y[batch_idxs]\n",
    "    \n",
    "    # forward pass\n",
    "    emb = C[X_batch]\n",
    "    h = torch.tanh(emb.view((-1, 6)) @ W1 + b1)\n",
    "    logits = h @ W2 + b2\n",
    "    loss = F.cross_entropy(logits, Y_batch)\n",
    "    print(loss.item())\n",
    "    \n",
    "    # backward pass\n",
    "    for p in parameters:\n",
    "        p.grad=None\n",
    "    loss.backward()\n",
    "\n",
    "    for p in parameters:\n",
    "        p.data += -0.1 * p.grad\n",
    "\n",
    "    \n",
    "# print(loss.item())"
   ]
  },
  {
   "cell_type": "code",
   "execution_count": 92,
   "id": "8242c4fa-4523-4d71-99dc-3f6e230a6567",
   "metadata": {},
   "outputs": [],
   "source": [
    "# that's alot faster :D, picking a good learning rate is next!\n",
    "\n",
    "# our approach is it to manually look for:\n",
    "# 1. a relatively high learning rate wheres the losses explode, or fluctuate alot\n",
    "# 2. a relatively low learning rate wheres our optimization is not doing anything\n",
    "# 3. after that we take the best learning rate in that range\n",
    "# we get a range of [1.0, 0.001] learning rate; or we can say a range[-3, 0] learning rate exponents"
   ]
  },
  {
   "cell_type": "code",
   "execution_count": 93,
   "id": "7cd50b2a-a518-4535-882a-48e53b878101",
   "metadata": {},
   "outputs": [
    {
     "data": {
      "text/plain": [
       "tensor([0.0010, 0.0010, 0.0010, 0.0010, 0.0010, 0.0010, 0.0010, 0.0010, 0.0011,\n",
       "        0.0011, 0.0011, 0.0011, 0.0011, 0.0011, 0.0011, 0.0011, 0.0011, 0.0011,\n",
       "        0.0011, 0.0011, 0.0011, 0.0012, 0.0012, 0.0012, 0.0012, 0.0012, 0.0012,\n",
       "        0.0012, 0.0012, 0.0012, 0.0012, 0.0012, 0.0012, 0.0013, 0.0013, 0.0013,\n",
       "        0.0013, 0.0013, 0.0013, 0.0013, 0.0013, 0.0013, 0.0013, 0.0013, 0.0014,\n",
       "        0.0014, 0.0014, 0.0014, 0.0014, 0.0014, 0.0014, 0.0014, 0.0014, 0.0014,\n",
       "        0.0015, 0.0015, 0.0015, 0.0015, 0.0015, 0.0015, 0.0015, 0.0015, 0.0015,\n",
       "        0.0015, 0.0016, 0.0016, 0.0016, 0.0016, 0.0016, 0.0016, 0.0016, 0.0016,\n",
       "        0.0016, 0.0017, 0.0017, 0.0017, 0.0017, 0.0017, 0.0017, 0.0017, 0.0017,\n",
       "        0.0018, 0.0018, 0.0018, 0.0018, 0.0018, 0.0018, 0.0018, 0.0018, 0.0019,\n",
       "        0.0019, 0.0019, 0.0019, 0.0019, 0.0019, 0.0019, 0.0019, 0.0020, 0.0020,\n",
       "        0.0020, 0.0020, 0.0020, 0.0020, 0.0020, 0.0021, 0.0021, 0.0021, 0.0021,\n",
       "        0.0021, 0.0021, 0.0021, 0.0022, 0.0022, 0.0022, 0.0022, 0.0022, 0.0022,\n",
       "        0.0022, 0.0023, 0.0023, 0.0023, 0.0023, 0.0023, 0.0023, 0.0024, 0.0024,\n",
       "        0.0024, 0.0024, 0.0024, 0.0024, 0.0025, 0.0025, 0.0025, 0.0025, 0.0025,\n",
       "        0.0025, 0.0026, 0.0026, 0.0026, 0.0026, 0.0026, 0.0027, 0.0027, 0.0027,\n",
       "        0.0027, 0.0027, 0.0027, 0.0028, 0.0028, 0.0028, 0.0028, 0.0028, 0.0029,\n",
       "        0.0029, 0.0029, 0.0029, 0.0029, 0.0030, 0.0030, 0.0030, 0.0030, 0.0030,\n",
       "        0.0031, 0.0031, 0.0031, 0.0031, 0.0032, 0.0032, 0.0032, 0.0032, 0.0032,\n",
       "        0.0033, 0.0033, 0.0033, 0.0033, 0.0034, 0.0034, 0.0034, 0.0034, 0.0034,\n",
       "        0.0035, 0.0035, 0.0035, 0.0035, 0.0036, 0.0036, 0.0036, 0.0036, 0.0037,\n",
       "        0.0037, 0.0037, 0.0037, 0.0038, 0.0038, 0.0038, 0.0039, 0.0039, 0.0039,\n",
       "        0.0039, 0.0040, 0.0040, 0.0040, 0.0040, 0.0041, 0.0041, 0.0041, 0.0042,\n",
       "        0.0042, 0.0042, 0.0042, 0.0043, 0.0043, 0.0043, 0.0044, 0.0044, 0.0044,\n",
       "        0.0045, 0.0045, 0.0045, 0.0045, 0.0046, 0.0046, 0.0046, 0.0047, 0.0047,\n",
       "        0.0047, 0.0048, 0.0048, 0.0048, 0.0049, 0.0049, 0.0049, 0.0050, 0.0050,\n",
       "        0.0050, 0.0051, 0.0051, 0.0051, 0.0052, 0.0052, 0.0053, 0.0053, 0.0053,\n",
       "        0.0054, 0.0054, 0.0054, 0.0055, 0.0055, 0.0056, 0.0056, 0.0056, 0.0057,\n",
       "        0.0057, 0.0058, 0.0058, 0.0058, 0.0059, 0.0059, 0.0060, 0.0060, 0.0060,\n",
       "        0.0061, 0.0061, 0.0062, 0.0062, 0.0062, 0.0063, 0.0063, 0.0064, 0.0064,\n",
       "        0.0065, 0.0065, 0.0066, 0.0066, 0.0067, 0.0067, 0.0067, 0.0068, 0.0068,\n",
       "        0.0069, 0.0069, 0.0070, 0.0070, 0.0071, 0.0071, 0.0072, 0.0072, 0.0073,\n",
       "        0.0073, 0.0074, 0.0074, 0.0075, 0.0075, 0.0076, 0.0076, 0.0077, 0.0077,\n",
       "        0.0078, 0.0079, 0.0079, 0.0080, 0.0080, 0.0081, 0.0081, 0.0082, 0.0082,\n",
       "        0.0083, 0.0084, 0.0084, 0.0085, 0.0085, 0.0086, 0.0086, 0.0087, 0.0088,\n",
       "        0.0088, 0.0089, 0.0090, 0.0090, 0.0091, 0.0091, 0.0092, 0.0093, 0.0093,\n",
       "        0.0094, 0.0095, 0.0095, 0.0096, 0.0097, 0.0097, 0.0098, 0.0099, 0.0099,\n",
       "        0.0100, 0.0101, 0.0101, 0.0102, 0.0103, 0.0104, 0.0104, 0.0105, 0.0106,\n",
       "        0.0106, 0.0107, 0.0108, 0.0109, 0.0109, 0.0110, 0.0111, 0.0112, 0.0112,\n",
       "        0.0113, 0.0114, 0.0115, 0.0116, 0.0116, 0.0117, 0.0118, 0.0119, 0.0120,\n",
       "        0.0121, 0.0121, 0.0122, 0.0123, 0.0124, 0.0125, 0.0126, 0.0127, 0.0127,\n",
       "        0.0128, 0.0129, 0.0130, 0.0131, 0.0132, 0.0133, 0.0134, 0.0135, 0.0136,\n",
       "        0.0137, 0.0137, 0.0138, 0.0139, 0.0140, 0.0141, 0.0142, 0.0143, 0.0144,\n",
       "        0.0145, 0.0146, 0.0147, 0.0148, 0.0149, 0.0150, 0.0151, 0.0152, 0.0154,\n",
       "        0.0155, 0.0156, 0.0157, 0.0158, 0.0159, 0.0160, 0.0161, 0.0162, 0.0163,\n",
       "        0.0165, 0.0166, 0.0167, 0.0168, 0.0169, 0.0170, 0.0171, 0.0173, 0.0174,\n",
       "        0.0175, 0.0176, 0.0178, 0.0179, 0.0180, 0.0181, 0.0182, 0.0184, 0.0185,\n",
       "        0.0186, 0.0188, 0.0189, 0.0190, 0.0192, 0.0193, 0.0194, 0.0196, 0.0197,\n",
       "        0.0198, 0.0200, 0.0201, 0.0202, 0.0204, 0.0205, 0.0207, 0.0208, 0.0210,\n",
       "        0.0211, 0.0212, 0.0214, 0.0215, 0.0217, 0.0218, 0.0220, 0.0221, 0.0223,\n",
       "        0.0225, 0.0226, 0.0228, 0.0229, 0.0231, 0.0232, 0.0234, 0.0236, 0.0237,\n",
       "        0.0239, 0.0241, 0.0242, 0.0244, 0.0246, 0.0247, 0.0249, 0.0251, 0.0253,\n",
       "        0.0254, 0.0256, 0.0258, 0.0260, 0.0261, 0.0263, 0.0265, 0.0267, 0.0269,\n",
       "        0.0271, 0.0273, 0.0274, 0.0276, 0.0278, 0.0280, 0.0282, 0.0284, 0.0286,\n",
       "        0.0288, 0.0290, 0.0292, 0.0294, 0.0296, 0.0298, 0.0300, 0.0302, 0.0304,\n",
       "        0.0307, 0.0309, 0.0311, 0.0313, 0.0315, 0.0317, 0.0320, 0.0322, 0.0324,\n",
       "        0.0326, 0.0328, 0.0331, 0.0333, 0.0335, 0.0338, 0.0340, 0.0342, 0.0345,\n",
       "        0.0347, 0.0350, 0.0352, 0.0354, 0.0357, 0.0359, 0.0362, 0.0364, 0.0367,\n",
       "        0.0369, 0.0372, 0.0375, 0.0377, 0.0380, 0.0382, 0.0385, 0.0388, 0.0390,\n",
       "        0.0393, 0.0396, 0.0399, 0.0401, 0.0404, 0.0407, 0.0410, 0.0413, 0.0416,\n",
       "        0.0418, 0.0421, 0.0424, 0.0427, 0.0430, 0.0433, 0.0436, 0.0439, 0.0442,\n",
       "        0.0445, 0.0448, 0.0451, 0.0455, 0.0458, 0.0461, 0.0464, 0.0467, 0.0471,\n",
       "        0.0474, 0.0477, 0.0480, 0.0484, 0.0487, 0.0491, 0.0494, 0.0497, 0.0501,\n",
       "        0.0504, 0.0508, 0.0511, 0.0515, 0.0518, 0.0522, 0.0526, 0.0529, 0.0533,\n",
       "        0.0537, 0.0540, 0.0544, 0.0548, 0.0552, 0.0556, 0.0559, 0.0563, 0.0567,\n",
       "        0.0571, 0.0575, 0.0579, 0.0583, 0.0587, 0.0591, 0.0595, 0.0599, 0.0604,\n",
       "        0.0608, 0.0612, 0.0616, 0.0621, 0.0625, 0.0629, 0.0634, 0.0638, 0.0642,\n",
       "        0.0647, 0.0651, 0.0656, 0.0660, 0.0665, 0.0670, 0.0674, 0.0679, 0.0684,\n",
       "        0.0688, 0.0693, 0.0698, 0.0703, 0.0708, 0.0713, 0.0718, 0.0723, 0.0728,\n",
       "        0.0733, 0.0738, 0.0743, 0.0748, 0.0753, 0.0758, 0.0764, 0.0769, 0.0774,\n",
       "        0.0780, 0.0785, 0.0790, 0.0796, 0.0802, 0.0807, 0.0813, 0.0818, 0.0824,\n",
       "        0.0830, 0.0835, 0.0841, 0.0847, 0.0853, 0.0859, 0.0865, 0.0871, 0.0877,\n",
       "        0.0883, 0.0889, 0.0895, 0.0901, 0.0908, 0.0914, 0.0920, 0.0927, 0.0933,\n",
       "        0.0940, 0.0946, 0.0953, 0.0959, 0.0966, 0.0973, 0.0979, 0.0986, 0.0993,\n",
       "        0.1000, 0.1007, 0.1014, 0.1021, 0.1028, 0.1035, 0.1042, 0.1050, 0.1057,\n",
       "        0.1064, 0.1072, 0.1079, 0.1087, 0.1094, 0.1102, 0.1109, 0.1117, 0.1125,\n",
       "        0.1133, 0.1140, 0.1148, 0.1156, 0.1164, 0.1172, 0.1181, 0.1189, 0.1197,\n",
       "        0.1205, 0.1214, 0.1222, 0.1231, 0.1239, 0.1248, 0.1256, 0.1265, 0.1274,\n",
       "        0.1283, 0.1292, 0.1301, 0.1310, 0.1319, 0.1328, 0.1337, 0.1346, 0.1356,\n",
       "        0.1365, 0.1374, 0.1384, 0.1394, 0.1403, 0.1413, 0.1423, 0.1433, 0.1443,\n",
       "        0.1453, 0.1463, 0.1473, 0.1483, 0.1493, 0.1504, 0.1514, 0.1525, 0.1535,\n",
       "        0.1546, 0.1557, 0.1567, 0.1578, 0.1589, 0.1600, 0.1611, 0.1623, 0.1634,\n",
       "        0.1645, 0.1657, 0.1668, 0.1680, 0.1691, 0.1703, 0.1715, 0.1727, 0.1739,\n",
       "        0.1751, 0.1763, 0.1775, 0.1788, 0.1800, 0.1812, 0.1825, 0.1838, 0.1850,\n",
       "        0.1863, 0.1876, 0.1889, 0.1902, 0.1916, 0.1929, 0.1942, 0.1956, 0.1969,\n",
       "        0.1983, 0.1997, 0.2010, 0.2024, 0.2038, 0.2053, 0.2067, 0.2081, 0.2096,\n",
       "        0.2110, 0.2125, 0.2140, 0.2154, 0.2169, 0.2184, 0.2200, 0.2215, 0.2230,\n",
       "        0.2246, 0.2261, 0.2277, 0.2293, 0.2309, 0.2325, 0.2341, 0.2357, 0.2373,\n",
       "        0.2390, 0.2406, 0.2423, 0.2440, 0.2457, 0.2474, 0.2491, 0.2508, 0.2526,\n",
       "        0.2543, 0.2561, 0.2579, 0.2597, 0.2615, 0.2633, 0.2651, 0.2669, 0.2688,\n",
       "        0.2707, 0.2725, 0.2744, 0.2763, 0.2783, 0.2802, 0.2821, 0.2841, 0.2861,\n",
       "        0.2880, 0.2900, 0.2921, 0.2941, 0.2961, 0.2982, 0.3002, 0.3023, 0.3044,\n",
       "        0.3065, 0.3087, 0.3108, 0.3130, 0.3151, 0.3173, 0.3195, 0.3217, 0.3240,\n",
       "        0.3262, 0.3285, 0.3308, 0.3331, 0.3354, 0.3377, 0.3400, 0.3424, 0.3448,\n",
       "        0.3472, 0.3496, 0.3520, 0.3544, 0.3569, 0.3594, 0.3619, 0.3644, 0.3669,\n",
       "        0.3695, 0.3720, 0.3746, 0.3772, 0.3798, 0.3825, 0.3851, 0.3878, 0.3905,\n",
       "        0.3932, 0.3959, 0.3987, 0.4014, 0.4042, 0.4070, 0.4098, 0.4127, 0.4155,\n",
       "        0.4184, 0.4213, 0.4243, 0.4272, 0.4302, 0.4331, 0.4362, 0.4392, 0.4422,\n",
       "        0.4453, 0.4484, 0.4515, 0.4546, 0.4578, 0.4610, 0.4642, 0.4674, 0.4706,\n",
       "        0.4739, 0.4772, 0.4805, 0.4838, 0.4872, 0.4906, 0.4940, 0.4974, 0.5008,\n",
       "        0.5043, 0.5078, 0.5113, 0.5149, 0.5185, 0.5221, 0.5257, 0.5293, 0.5330,\n",
       "        0.5367, 0.5404, 0.5442, 0.5479, 0.5517, 0.5556, 0.5594, 0.5633, 0.5672,\n",
       "        0.5712, 0.5751, 0.5791, 0.5831, 0.5872, 0.5913, 0.5954, 0.5995, 0.6036,\n",
       "        0.6078, 0.6120, 0.6163, 0.6206, 0.6249, 0.6292, 0.6336, 0.6380, 0.6424,\n",
       "        0.6469, 0.6513, 0.6559, 0.6604, 0.6650, 0.6696, 0.6743, 0.6789, 0.6837,\n",
       "        0.6884, 0.6932, 0.6980, 0.7028, 0.7077, 0.7126, 0.7176, 0.7225, 0.7275,\n",
       "        0.7326, 0.7377, 0.7428, 0.7480, 0.7531, 0.7584, 0.7636, 0.7689, 0.7743,\n",
       "        0.7796, 0.7850, 0.7905, 0.7960, 0.8015, 0.8071, 0.8127, 0.8183, 0.8240,\n",
       "        0.8297, 0.8355, 0.8412, 0.8471, 0.8530, 0.8589, 0.8648, 0.8708, 0.8769,\n",
       "        0.8830, 0.8891, 0.8953, 0.9015, 0.9077, 0.9140, 0.9204, 0.9268, 0.9332,\n",
       "        0.9397, 0.9462, 0.9528, 0.9594, 0.9660, 0.9727, 0.9795, 0.9863, 0.9931,\n",
       "        1.0000])"
      ]
     },
     "execution_count": 93,
     "metadata": {},
     "output_type": "execute_result"
    }
   ],
   "source": [
    "lre = torch.linspace(-3, 0, 1000) # a range of 1000 exponent between -3, 0\n",
    "lrs = 10**lre # the actual learning rates\n",
    "lrs"
   ]
  },
  {
   "cell_type": "code",
   "execution_count": 96,
   "id": "a5d08fec-666a-4a5e-ad1b-61d497657330",
   "metadata": {},
   "outputs": [],
   "source": [
    "initialize_network()\n",
    "\n",
    "# train with different learning rates\n",
    "\n",
    "lri = []\n",
    "lossi = []\n",
    "for i in range(1000):\n",
    "    # mini-batch\n",
    "    batch_idxs = torch.randint(0, X.shape[0], (32, ))\n",
    "    X_batch = X[batch_idxs]\n",
    "    Y_batch = Y[batch_idxs]\n",
    "    \n",
    "    # forward pass\n",
    "    emb = C[X_batch]\n",
    "    h = torch.tanh(emb.view((-1, 6)) @ W1 + b1)\n",
    "    logits = h @ W2 + b2\n",
    "    loss = F.cross_entropy(logits, Y_batch)\n",
    "    # print(loss.item())\n",
    "    \n",
    "    # backward pass\n",
    "    for p in parameters:\n",
    "        p.grad=None\n",
    "    loss.backward()\n",
    "\n",
    "    # update\n",
    "    lr = lrs[i]\n",
    "    for p in parameters:\n",
    "        p.data += -lr * p.grad\n",
    "\n",
    "    # track stats\n",
    "    lri.append(lre[i])\n",
    "    lossi.append(loss.item())\n",
    "\n",
    "    \n",
    "# print(loss.item())"
   ]
  },
  {
   "cell_type": "code",
   "execution_count": 97,
   "id": "0fa8ca86-8ce6-4da3-9840-8f3d0d247205",
   "metadata": {},
   "outputs": [
    {
     "data": {
      "image/png": "[encoded data removed]",
      "text/plain": [
       "<Figure size 640x480 with 1 Axes>"
      ]
     },
     "metadata": {},
     "output_type": "display_data"
    }
   ],
   "source": [
    "plt.plot(lri, lossi)\n",
    "plt.title('loss vs. learning rate exponent');"
   ]
  },
  {
   "cell_type": "code",
   "execution_count": 30,
   "id": "693f16cc-7f5a-4091-b5a2-17bbad9a9c58",
   "metadata": {},
   "outputs": [],
   "source": [
    "# we see that the best learning rate lies where the exponent equals -1.0 (i.e. learning rate of 0.1; 10**-1 = 0.1)"
   ]
  },
  {
   "cell_type": "code",
   "execution_count": 31,
   "id": "b4204edd-7bcf-45af-82ac-9c31dc5fed6e",
   "metadata": {},
   "outputs": [],
   "source": [
    "# ---- now our hyperparameters is optimized, let's combine what we did so far ----"
   ]
  },
  {
   "cell_type": "code",
   "execution_count": 32,
   "id": "f37df319-114e-4c4b-877f-8a52a1f52a7d",
   "metadata": {},
   "outputs": [
    {
     "name": "stdout",
     "output_type": "stream",
     "text": [
      "total number of parameters: 3481\n"
     ]
    }
   ],
   "source": [
    "# initialization\n",
    "C = torch.randn((27, 2))\n",
    "W1 = torch.randn((6, 100))\n",
    "b1 = torch.randn(100)\n",
    "W2 = torch.randn((100, 27))\n",
    "b2 = torch.randn(27)\n",
    "\n",
    "parameters = [C, W1, b1, W2, b2]\n",
    "\n",
    "print(\"total number of parameters:\", sum(p.nelement() for p in parameters))\n",
    "for p in parameters: # reset the gradients\n",
    "    p.requires_grad = True"
   ]
  },
  {
   "cell_type": "code",
   "execution_count": 33,
   "id": "2bcce5e9-ffce-4b3c-acae-91c2c907fe43",
   "metadata": {},
   "outputs": [
    {
     "name": "stdout",
     "output_type": "stream",
     "text": [
      "2.4858617782592773\n"
     ]
    }
   ],
   "source": [
    "# training\n",
    "# lri = []\n",
    "# lossi = []\n",
    "for i in range(10000):\n",
    "    # mini-batch\n",
    "    batch_idxs = torch.randint(0, X.shape[0], (32, ))\n",
    "    X_batch = X[batch_idxs]\n",
    "    Y_batch = Y[batch_idxs]\n",
    "    \n",
    "    # forward pass\n",
    "    emb = C[X_batch]\n",
    "    h = torch.tanh(emb.view((-1, 6)) @ W1 + b1)\n",
    "    logits = h @ W2 + b2\n",
    "    loss = F.cross_entropy(logits, Y_batch)\n",
    "    # print(loss.item())\n",
    "    \n",
    "    # backward pass\n",
    "    for p in parameters:\n",
    "        p.grad=None\n",
    "    loss.backward()\n",
    "\n",
    "    # update\n",
    "    # lr = lrs[i]\n",
    "    lr = 0.1 # best learning rate\n",
    "    for p in parameters:\n",
    "        p.data += -lr * p.grad\n",
    "\n",
    "    # track stats\n",
    "    # lri.append(lre[i])\n",
    "    # lossi.append(loss.item())\n",
    "\n",
    "    \n",
    "print(loss.item()) # training loss"
   ]
  },
  {
   "cell_type": "code",
   "execution_count": 34,
   "id": "a8fb955a-45fe-4429-b778-0684e16e2b65",
   "metadata": {},
   "outputs": [
    {
     "data": {
      "text/plain": [
       "tensor(2.4306, grad_fn=<NllLossBackward0>)"
      ]
     },
     "execution_count": 34,
     "metadata": {},
     "output_type": "execute_result"
    }
   ],
   "source": [
    "# loss for all datasets\n",
    "emb = C[X]\n",
    "h = torch.tanh(emb.view((-1, 6)) @ W1 + b1)\n",
    "logits = h @ W2 + b2\n",
    "loss = F.cross_entropy(logits, Y) # cross-entropy: exp(logits)/sum(exp(logits)) aummarized into one step, faster.\n",
    "loss"
   ]
  },
  {
   "cell_type": "code",
   "execution_count": null,
   "id": "f62b0cc1-08f4-4d86-9ed7-74568fe9c933",
   "metadata": {},
   "outputs": [],
   "source": []
  }
 ],
 "metadata": {
  "kernelspec": {
   "display_name": "Python 3 (ipykernel)",
   "language": "python",
   "name": "python3"
  },
  "language_info": {
   "codemirror_mode": {
    "name": "ipython",
    "version": 3
   },
   "file_extension": ".py",
   "mimetype": "text/x-python",
   "name": "python",
   "nbconvert_exporter": "python",
   "pygments_lexer": "ipython3",
   "version": "3.12.0"
  }
 },
 "nbformat": 4,
 "nbformat_minor": 5
}
