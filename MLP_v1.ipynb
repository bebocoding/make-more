{
 "cells": [
  {
   "cell_type": "markdown",
   "id": "ff80930d-3c01-4890-9f85-b72879e9a0b1",
   "metadata": {},
   "source": [
    "# Hyperparameter Tuning\n",
    "in this notebook we will apply the techinques off which we tune the hyperparameters to optimize the network, and prevent *overfitting*."
   ]
  },
  {
   "cell_type": "code",
   "execution_count": 180,
   "id": "85a8910d-18b3-4b6c-88e9-abfc1e339954",
   "metadata": {},
   "outputs": [],
   "source": [
    "# imports\n",
    "import torch\n",
    "import torch.nn.functional as F\n",
    "import matplotlib.pyplot as plt\n",
    "%matplotlib inline"
   ]
  },
  {
   "cell_type": "code",
   "execution_count": 181,
   "id": "089aa337-a5c5-4568-b3f1-a464ad01b022",
   "metadata": {},
   "outputs": [
    {
     "data": {
      "text/plain": [
       "['emma', 'olivia', 'ava', 'isabella', 'sophia', 'charlotte', 'mia']"
      ]
     },
     "execution_count": 181,
     "metadata": {},
     "output_type": "execute_result"
    }
   ],
   "source": [
    "# read all words\n",
    "words = open('names.txt').read().splitlines()\n",
    "words[:7]"
   ]
  },
  {
   "cell_type": "code",
   "execution_count": 182,
   "id": "b7ec03b9-216e-4572-99d3-2fa40603219d",
   "metadata": {},
   "outputs": [
    {
     "data": {
      "text/plain": [
       "32033"
      ]
     },
     "execution_count": 182,
     "metadata": {},
     "output_type": "execute_result"
    }
   ],
   "source": [
    "len(words)"
   ]
  },
  {
   "cell_type": "code",
   "execution_count": 183,
   "id": "1ad56435-ef63-4968-abc7-fac6c22ef32c",
   "metadata": {},
   "outputs": [
    {
     "name": "stdout",
     "output_type": "stream",
     "text": [
      "{1: 'a', 2: 'b', 3: 'c', 4: 'd', 5: 'e', 6: 'f', 7: 'g', 8: 'h', 9: 'i', 10: 'j', 11: 'k', 12: 'l', 13: 'm', 14: 'n', 15: 'o', 16: 'p', 17: 'q', 18: 'r', 19: 's', 20: 't', 21: 'u', 22: 'v', 23: 'w', 24: 'x', 25: 'y', 26: 'z', 0: '.'}\n"
     ]
    }
   ],
   "source": [
    "# build vocabulary of charactars and mapping to/from integers(indexes)\n",
    "chars = sorted(set(''.join(words)))\n",
    "stoi = {s:i+1 for i, s in enumerate(chars)} # map from charactors to integers\n",
    "stoi['.'] = 0 # '.' will be a special character indicating word end\n",
    "\n",
    "itos = {i:s for s, i in stoi.items()} # map from integers to characters\n",
    "print(itos)"
   ]
  },
  {
   "cell_type": "code",
   "execution_count": 184,
   "id": "7d1595ec-ccc2-4338-96f1-b354c2843743",
   "metadata": {},
   "outputs": [],
   "source": [
    "# build the datset\n",
    "block_size = 3 # character context size: how many characters it takes to predict the next character\n",
    "\n",
    "X, Y = [], []\n",
    "for w in words:\n",
    "    \n",
    "    # print(w)\n",
    "    context = [0] * block_size\n",
    "    for c in w + '.':\n",
    "        idx = stoi[c]\n",
    "        X.append(context)\n",
    "        Y.append(idx)\n",
    "        # print(''.join(itos[i] for i in context), '---->', c)\n",
    "        context = context[1:] + [idx]\n",
    "\n",
    "X = torch.tensor(X)\n",
    "Y = torch.tensor(Y)\n",
    "        "
   ]
  },
  {
   "cell_type": "code",
   "execution_count": 185,
   "id": "e186ae32-8e3c-42b5-aaef-86899a0d859b",
   "metadata": {},
   "outputs": [
    {
     "data": {
      "text/plain": [
       "(torch.Size([228146, 3]), torch.int64, torch.Size([228146]), torch.int64)"
      ]
     },
     "execution_count": 185,
     "metadata": {},
     "output_type": "execute_result"
    }
   ],
   "source": [
    "X.shape, X.dtype, Y.shape, Y.dtype"
   ]
  },
  {
   "cell_type": "code",
   "execution_count": 186,
   "id": "da81abce-8d3f-439c-8f76-2311cb434589",
   "metadata": {},
   "outputs": [],
   "source": [
    "# split: training set, dev/validation set, testing set\n",
    "#           80%      ,       10%         ,    10%"
   ]
  },
  {
   "cell_type": "code",
   "execution_count": 187,
   "id": "cc703ea7-9906-423c-a1de-8454d6c4435b",
   "metadata": {},
   "outputs": [
    {
     "name": "stdout",
     "output_type": "stream",
     "text": [
      "torch.Size([182625, 3]) torch.Size([182625])\n",
      "torch.Size([22655, 3]) torch.Size([22655])\n",
      "torch.Size([22866, 3]) torch.Size([22866])\n"
     ]
    }
   ],
   "source": [
    "def build_dataset(words):\n",
    "    block_size = 3 # character context size: how many characters it takes to predict the next character\n",
    "\n",
    "    X, Y = [], []\n",
    "    for w in words:\n",
    "        \n",
    "        # print(w)\n",
    "        context = [0] * block_size\n",
    "        for c in w + '.':\n",
    "            idx = stoi[c]\n",
    "            X.append(context)\n",
    "            Y.append(idx)\n",
    "            # print(''.join(itos[i] for i in context), '---->', c)\n",
    "            context = context[1:] + [idx]\n",
    "    \n",
    "    X = torch.tensor(X)\n",
    "    Y = torch.tensor(Y)\n",
    "    print(X.shape, Y.shape)\n",
    "    return X, Y\n",
    "import random\n",
    "random.seed(42)\n",
    "random.shuffle(words)\n",
    "n1 = int(0.8 * len(words))\n",
    "n2 = int(0.9 * len(words))\n",
    "\n",
    "Xtr, Ytr = build_dataset(words[:n1])\n",
    "Xdev, Ydev = build_dataset(words[n1:n2])\n",
    "Xte, Yte = build_dataset(words[n2:])"
   ]
  },
  {
   "cell_type": "code",
   "execution_count": 188,
   "id": "3615b0c0-fd99-452d-974c-05a348403c42",
   "metadata": {},
   "outputs": [
    {
     "data": {
      "text/plain": [
       "(torch.Size([182625, 3]), torch.Size([182625]))"
      ]
     },
     "execution_count": 188,
     "metadata": {},
     "output_type": "execute_result"
    }
   ],
   "source": [
    "Xtr.shape, Ytr.shape"
   ]
  },
  {
   "cell_type": "code",
   "execution_count": 213,
   "id": "00e39a7c-ee39-4c2f-9adb-5c18d5cdefce",
   "metadata": {},
   "outputs": [
    {
     "name": "stdout",
     "output_type": "stream",
     "text": [
      "total number of parameters: 10281\n"
     ]
    }
   ],
   "source": [
    "# initialize the neural network\n",
    "g = torch.Generator().manual_seed(2147483647)\n",
    "C = torch.randn((27, 2), generator=g) # embedding matrix: maps 27 charachers to 2 dimensional space\n",
    "W1 = torch.randn((6, 300), generator=g)\n",
    "b1 = torch.randn(300, generator=g)\n",
    "W2 = torch.randn((300, 27), generator=g)\n",
    "b2 = torch.randn(27, generator=g)\n",
    "\n",
    "parameters = [C, W1, b1, W2, b2]\n",
    "print(\"total number of parameters:\", sum(p.nelement() for p in parameters))\n",
    "for p in parameters: # reset the gradients\n",
    "    p.requires_grad = True"
   ]
  },
  {
   "cell_type": "code",
   "execution_count": 231,
   "id": "45b99cad-1ea0-497c-b923-57fd195fc39c",
   "metadata": {},
   "outputs": [],
   "source": [
    "# run this code until you get a plateou, start with lr = 0.1 then decay learning rate every time you run\n",
    "for i in range(10000):\n",
    "    # mini-batch\n",
    "    ix = torch.randint(0, Xtr.shape[0], (32, ))\n",
    "\n",
    "    # forward pass\n",
    "    emb = C[Xtr[ix]]\n",
    "    h = torch.tanh(emb.view((-1, 6)) @ W1 + b1)\n",
    "    logits = h @ W2 + b2\n",
    "    loss = F.cross_entropy(logits, Ytr[ix])\n",
    "    # print(loss.item())\n",
    "    \n",
    "    # backward pass\n",
    "    for p in parameters:\n",
    "        p.grad=None\n",
    "    loss.backward()\n",
    "\n",
    "    # update\n",
    "    lr = 0.05\n",
    "    for p in parameters:\n",
    "        p.data += -lr * p.grad\n",
    "\n",
    "    \n",
    "# print(loss.item())"
   ]
  },
  {
   "cell_type": "code",
   "execution_count": 232,
   "id": "049021d8-0907-4f9b-8dd0-b61449ce7540",
   "metadata": {},
   "outputs": [
    {
     "data": {
      "text/plain": [
       "tensor(2.3638, grad_fn=<NllLossBackward0>)"
      ]
     },
     "execution_count": 232,
     "metadata": {},
     "output_type": "execute_result"
    }
   ],
   "source": [
    "# loss for all training set\n",
    "emb = C[Xtr]\n",
    "h = torch.tanh(emb.view((-1, 6)) @ W1 + b1)\n",
    "logits = h @ W2 + b2\n",
    "loss = F.cross_entropy(logits, Ytr) # cross-entropy: exp(logits)/sum(exp(logits)) aummarized into one step, faster.\n",
    "loss"
   ]
  },
  {
   "cell_type": "code",
   "execution_count": 233,
   "id": "e0ce0a84-67d2-4b2b-a635-70a53df79b5d",
   "metadata": {},
   "outputs": [
    {
     "data": {
      "text/plain": [
       "tensor(2.3659, grad_fn=<NllLossBackward0>)"
      ]
     },
     "execution_count": 233,
     "metadata": {},
     "output_type": "execute_result"
    }
   ],
   "source": [
    "# loss for all dev set\n",
    "emb = C[Xdev]\n",
    "h = torch.tanh(emb.view((-1, 6)) @ W1 + b1)\n",
    "logits = h @ W2 + b2\n",
    "loss = F.cross_entropy(logits, Ydev) # cross-entropy: exp(logits)/sum(exp(logits)) aummarized into one step, faster.\n",
    "loss"
   ]
  },
  {
   "cell_type": "markdown",
   "id": "d23254d8-f89c-4d2d-9e95-3abad442baf0",
   "metadata": {},
   "source": [
    "- we see training loss, validation loss are not very different\n",
    "- we assume that the model is not complex enough to memorise the training set and overfit the training data."
   ]
  },
  {
   "cell_type": "code",
   "execution_count": 234,
   "id": "d43bd786-4f50-485b-ba17-a5fa90a989ff",
   "metadata": {},
   "outputs": [
    {
     "name": "stdout",
     "output_type": "stream",
     "text": [
      "total number of parameters: 10281\n"
     ]
    }
   ],
   "source": [
    "# first tune -> initialize the hidden layer with 300 neurons, 30000 iterations repeated with learning rate decay\n",
    "g = torch.Generator().manual_seed(2147483647)\n",
    "C = torch.randn((27, 2), generator=g) # embedding matrix: maps 27 charachers to 2 dimensional space\n",
    "W1 = torch.randn((6, 300), generator=g)\n",
    "b1 = torch.randn(300, generator=g)\n",
    "W2 = torch.randn((300, 27), generator=g)\n",
    "b2 = torch.randn(27, generator=g)\n",
    "\n",
    "parameters = [C, W1, b1, W2, b2]\n",
    "print(\"total number of parameters:\", sum(p.nelement() for p in parameters))\n",
    "for p in parameters: # reset the gradients\n",
    "    p.requires_grad = True"
   ]
  },
  {
   "cell_type": "code",
   "execution_count": 235,
   "id": "2abca096-04ac-4c9d-b493-e9462c27f208",
   "metadata": {},
   "outputs": [],
   "source": [
    "stepi = []\n",
    "lossi = []"
   ]
  },
  {
   "cell_type": "code",
   "execution_count": 255,
   "id": "a9a3dbab-83ae-420d-822c-b77056221b4b",
   "metadata": {},
   "outputs": [],
   "source": [
    "# start with lr=0.1 then decay it and re-run\n",
    "for i in range(30000):\n",
    "    # mini-batch\n",
    "    ix = torch.randint(0, Xtr.shape[0], (32, ))\n",
    "\n",
    "    # forward pass\n",
    "    emb = C[Xtr[ix]]\n",
    "    h = torch.tanh(emb.view((-1, 6)) @ W1 + b1)\n",
    "    logits = h @ W2 + b2\n",
    "    loss = F.cross_entropy(logits, Ytr[ix])\n",
    "    # print(loss.item())\n",
    "    \n",
    "    # backward pass\n",
    "    for p in parameters:\n",
    "        p.grad=None\n",
    "    loss.backward()\n",
    "\n",
    "    # update\n",
    "    lr = 0.01\n",
    "    for p in parameters:\n",
    "        p.data += -lr * p.grad\n",
    "\n",
    "    # track stats\n",
    "    stepi.append(i)\n",
    "    lossi.append(loss.item())\n",
    "\n",
    "    \n",
    "# print(loss.item())"
   ]
  },
  {
   "cell_type": "code",
   "execution_count": 256,
   "id": "d95103e6-66f8-4e5f-b3df-ac579fd8a29c",
   "metadata": {},
   "outputs": [
    {
     "data": {
      "image/png": "[encoded data removed]",
      "text/plain": [
       "<Figure size 640x480 with 1 Axes>"
      ]
     },
     "metadata": {},
     "output_type": "display_data"
    }
   ],
   "source": [
    "plt.plot(stepi, lossi);"
   ]
  },
  {
   "cell_type": "code",
   "execution_count": 257,
   "id": "600faccc-0ecc-4a6c-bc04-c47ad3f15bb6",
   "metadata": {},
   "outputs": [
    {
     "name": "stdout",
     "output_type": "stream",
     "text": [
      "training loss: 2.234766960144043\n"
     ]
    }
   ],
   "source": [
    "emb = C[Xtr]\n",
    "h = torch.tanh(emb.view((-1, 6)) @ W1 + b1)\n",
    "logits = h @ W2 + b2\n",
    "loss = F.cross_entropy(logits, Ytr) # cross-entropy: exp(logits)/sum(exp(logits)) aummarized into one step, faster.\n",
    "print(\"training loss:\", loss.item())"
   ]
  },
  {
   "cell_type": "code",
   "execution_count": 258,
   "id": "de5ca681-0ec7-408c-9dae-b3548322ad12",
   "metadata": {},
   "outputs": [
    {
     "name": "stdout",
     "output_type": "stream",
     "text": [
      "validation loss: 2.2430243492126465\n"
     ]
    }
   ],
   "source": [
    "emb = C[Xdev]\n",
    "h = torch.tanh(emb.view((-1, 6)) @ W1 + b1)\n",
    "logits = h @ W2 + b2\n",
    "loss = F.cross_entropy(logits, Ydev) # cross-entropy: exp(logits)/sum(exp(logits)) aummarized into one step, faster.\n",
    "print(\"validation loss:\", loss.item())"
   ]
  },
  {
   "cell_type": "markdown",
   "id": "bc9ae634-b470-4cbe-8413-fd1bec24f1f6",
   "metadata": {},
   "source": [
    "- training and validation loss are decreased, but they are not very different (a sign of *underfitting* still)"
   ]
  },
  {
   "cell_type": "code",
   "execution_count": 260,
   "id": "b2033a0f-db60-4d1a-82c0-23ac5f139d93",
   "metadata": {},
   "outputs": [
    {
     "data": {
      "image/png": "[encoded data removed]",
      "text/plain": [
       "<Figure size 800x800 with 1 Axes>"
      ]
     },
     "metadata": {},
     "output_type": "display_data"
    }
   ],
   "source": [
    "# visualize the character embedding space\n",
    "plt.figure(figsize=(8,8))\n",
    "plt.scatter(C[:,0].data, C[:,1].data, s=200)\n",
    "for i in range(C.shape[0]):\n",
    "    plt.text(C[i, 0].item(), C[i, 1].item(), itos[i], ha='center', va='center', color='white')\n",
    "plt.grid('minor')"
   ]
  },
  {
   "cell_type": "markdown",
   "id": "d553ce86-6ce4-4e62-9eb1-708f3d666f8d",
   "metadata": {},
   "source": [
    "- note that the vowels `a, i, e, o, u` are close to each other making a cluster, meaning they appear in similar context (similar embeddings (inputs) -> similar outputs)\n",
    "- also note that some characters are far from other characters, meaning they are not similar or they are special characters (e.g., `.`)."
   ]
  },
  {
   "cell_type": "code",
   "execution_count": 261,
   "id": "108be21a-1b70-4a30-a4a7-a5927ffa8959",
   "metadata": {},
   "outputs": [
    {
     "name": "stdout",
     "output_type": "stream",
     "text": [
      "total number of parameters: 11897\n"
     ]
    }
   ],
   "source": [
    "# second tune -> expand the embedding vectors to a higher dimension (e.g., 10), 200000 iterations, lr= 0.1 or 0.01, hidden layer neurons = 200\n",
    "g = torch.Generator().manual_seed(2147483647)\n",
    "C = torch.randn((27, 10), generator=g) # embedding matrix: maps 27 character to a 10 dimensional space.\n",
    "W1 = torch.randn((30, 200), generator=g)\n",
    "b1 = torch.randn(200, generator=g)\n",
    "W2 = torch.randn((200, 27), generator=g)\n",
    "b2 = torch.randn(27, generator=g)\n",
    "\n",
    "parameters = [C, W1, b1, W2, b2]\n",
    "print(\"total number of parameters:\", sum(p.nelement() for p in parameters))\n",
    "for p in parameters: # reset the gradients\n",
    "    p.requires_grad = True"
   ]
  },
  {
   "cell_type": "code",
   "execution_count": 262,
   "id": "9eff01a1-6dd2-43f6-9b50-3ec9a9bfc3b9",
   "metadata": {},
   "outputs": [],
   "source": [
    "stepi = []\n",
    "lossi = []"
   ]
  },
  {
   "cell_type": "code",
   "execution_count": 263,
   "id": "2352bbd6-5316-4d10-ae70-7a4dfb4137d0",
   "metadata": {},
   "outputs": [],
   "source": [
    "# run this code until you get a plateau in the loss then decay the learning rate\n",
    "for i in range(200000):\n",
    "    # mini-batch\n",
    "    ix = torch.randint(0, Xtr.shape[0], (32, ))\n",
    "\n",
    "    # forward pass\n",
    "    emb = C[Xtr[ix]]\n",
    "    h = torch.tanh(emb.view((-1, 30)) @ W1 + b1)\n",
    "    logits = h @ W2 + b2\n",
    "    loss = F.cross_entropy(logits, Ytr[ix])\n",
    "    # print(loss.item())\n",
    "    \n",
    "    # backward pass\n",
    "    for p in parameters:\n",
    "        p.grad=None\n",
    "    loss.backward()\n",
    "\n",
    "    # update\n",
    "    lr = 0.1 if i < 100000 else 0.01 # first 100000 iterations with lr=0.1 then lr=0.01\n",
    "    for p in parameters:\n",
    "        p.data += -lr * p.grad\n",
    "\n",
    "    # track stats\n",
    "    stepi.append(i)\n",
    "    lossi.append(loss.log10().item()) # this time printing log-loss\n",
    "\n",
    "    \n",
    "# print(loss.item())"
   ]
  },
  {
   "cell_type": "code",
   "execution_count": 264,
   "id": "80780199-9a49-4626-b7b8-3b69275936d2",
   "metadata": {},
   "outputs": [
    {
     "data": {
      "image/png": "[encoded data removed]",
      "text/plain": [
       "<Figure size 640x480 with 1 Axes>"
      ]
     },
     "metadata": {},
     "output_type": "display_data"
    }
   ],
   "source": [
    "plt.plot(stepi, lossi);"
   ]
  },
  {
   "cell_type": "code",
   "execution_count": 265,
   "id": "4bf30a17-b419-4200-9842-de6d6ad197b6",
   "metadata": {},
   "outputs": [
    {
     "name": "stdout",
     "output_type": "stream",
     "text": [
      "training loss: 2.1088967323303223\n"
     ]
    }
   ],
   "source": [
    "emb = C[Xtr]\n",
    "h = torch.tanh(emb.view((-1, 30)) @ W1 + b1)\n",
    "logits = h @ W2 + b2\n",
    "loss = F.cross_entropy(logits, Ytr) # cross-entropy: exp(logits)/sum(exp(logits)) aummarized into one step, faster.\n",
    "print(\"training loss:\", loss.item())"
   ]
  },
  {
   "cell_type": "code",
   "execution_count": 266,
   "id": "c8ec6a2c-9af5-40c2-81a1-471a5fb277f1",
   "metadata": {},
   "outputs": [
    {
     "name": "stdout",
     "output_type": "stream",
     "text": [
      "validation loss: 2.152947425842285\n"
     ]
    }
   ],
   "source": [
    "emb = C[Xdev]\n",
    "h = torch.tanh(emb.view((-1, 30)) @ W1 + b1)\n",
    "logits = h @ W2 + b2\n",
    "loss = F.cross_entropy(logits, Ydev) # cross-entropy: exp(logits)/sum(exp(logits)) aummarized into one step, faster.\n",
    "print(\"validation loss:\", loss.item())"
   ]
  },
  {
   "cell_type": "markdown",
   "id": "4c58c598-1bfe-404c-96cd-eceeaf2b2db0",
   "metadata": {},
   "source": [
    "- now we are getting a difference between training and validation sets in terms of losses, we are *overfitting*.\n",
    "- also the training loss and validation loss is better."
   ]
  },
  {
   "cell_type": "code",
   "execution_count": 1028,
   "id": "da756406-32bc-4e2b-be76-4b09839e7aaf",
   "metadata": {},
   "outputs": [
    {
     "name": "stdout",
     "output_type": "stream",
     "text": [
      "torch.Size([182441, 4]) torch.Size([182441])\n",
      "torch.Size([22902, 4]) torch.Size([22902])\n",
      "torch.Size([22803, 4]) torch.Size([22803])\n"
     ]
    }
   ],
   "source": [
    "# tune 3: batch_size = 12, n-neurons = 100, n-previous characters(block-size) = 4\n",
    "def build_dataset(words):\n",
    "    block_size = 4 # character context size: how many characters it takes to predict the next character\n",
    "\n",
    "    X, Y = [], []\n",
    "    for w in words:\n",
    "        \n",
    "        # print(w)\n",
    "        context = [0] * block_size\n",
    "        for c in w + '.':\n",
    "            idx = stoi[c]\n",
    "            X.append(context)\n",
    "            Y.append(idx)\n",
    "            # print(''.join(itos[i] for i in context), '---->', c)\n",
    "            context = context[1:] + [idx]\n",
    "    \n",
    "    X = torch.tensor(X)\n",
    "    Y = torch.tensor(Y)\n",
    "    print(X.shape, Y.shape)\n",
    "    return X, Y\n",
    "import random\n",
    "random.seed(42)\n",
    "random.shuffle(words)\n",
    "n1 = int(0.8 * len(words))\n",
    "n2 = int(0.9 * len(words))\n",
    "\n",
    "Xtr, Ytr = build_dataset(words[:n1])\n",
    "Xdev, Ydev = build_dataset(words[n1:n2])\n",
    "Xte, Yte = build_dataset(words[n2:])"
   ]
  },
  {
   "cell_type": "code",
   "execution_count": 1053,
   "id": "879c5078-4d86-410c-9260-afcdda5f5e48",
   "metadata": {},
   "outputs": [
    {
     "name": "stdout",
     "output_type": "stream",
     "text": [
      "total number of parameters: 7097\n"
     ]
    }
   ],
   "source": [
    "g = torch.Generator().manual_seed(2147483647)\n",
    "C = torch.randn((27, 10), generator=g) # embedding matrix: maps 27 character to a 10 dimensional space.\n",
    "W1 = torch.randn((40, 100), generator=g)\n",
    "b1 = torch.randn(100, generator=g)\n",
    "W2 = torch.randn((100, 27), generator=g)\n",
    "b2 = torch.randn(27, generator=g)\n",
    "\n",
    "parameters = [C, W1, b1, W2, b2]\n",
    "print(\"total number of parameters:\", sum(p.nelement() for p in parameters))\n",
    "for p in parameters: # reset the gradients\n",
    "    p.requires_grad = True"
   ]
  },
  {
   "cell_type": "code",
   "execution_count": 1054,
   "id": "1f8d7258-0b66-4036-9c40-ade3b316cffb",
   "metadata": {},
   "outputs": [
    {
     "name": "stdout",
     "output_type": "stream",
     "text": [
      "training loss: 16.03428840637207\n",
      "training loss: 2.7302029132843018\n",
      "training loss: 2.3773858547210693\n",
      "training loss: 2.2812795639038086\n",
      "training loss: 2.2789113521575928\n",
      "training loss: 2.268502712249756\n",
      "training loss: 2.3659827709198\n",
      "training loss: 2.2304108142852783\n",
      "training loss: 2.244175910949707\n",
      "training loss: 2.1829757690429688\n",
      "training loss: 2.165090799331665\n",
      "training loss: 2.080970287322998\n",
      "training loss: 2.072991132736206\n",
      "training loss: 2.080254316329956\n",
      "training loss: 2.077906608581543\n",
      "training loss: 2.076594352722168\n",
      "training loss: 2.0745108127593994\n",
      "training loss: 2.0741214752197266\n",
      "training loss: 2.073082447052002\n",
      "training loss: 2.067107915878296\n"
     ]
    }
   ],
   "source": [
    "# run this code until you get a plateau in the loss then decay the learning rate\n",
    "for i in range(200000):\n",
    "    # mini-batch\n",
    "    ix = torch.randint(0, Xtr.shape[0], (128, ))\n",
    "\n",
    "    # forward pass\n",
    "    emb = C[Xtr[ix]]\n",
    "    h = torch.tanh(emb.view((-1, 40)) @ W1 + b1)\n",
    "    logits = h @ W2 + b2\n",
    "    loss = F.cross_entropy(logits, Ytr[ix])\n",
    "    # print(loss.item())\n",
    "    \n",
    "    # backward pass\n",
    "    for p in parameters:\n",
    "        p.grad=None\n",
    "    loss.backward()\n",
    "\n",
    "    # update\n",
    "    lr = 0.5 if i < 100000 else 0.1 # first 100000 iterations with lr=0.1 then lr=0.01\n",
    "    # lr = 0.1\n",
    "    # lr = lrs[i]\n",
    "    for p in parameters:\n",
    "        p.data += -lr * p.grad\n",
    "\n",
    "    # track stats\n",
    "    if i%10000 == 0:\n",
    "        emb = C[Xtr]\n",
    "        h = torch.tanh(emb.view((-1, 40)) @ W1 + b1)\n",
    "        logits = h @ W2 + b2\n",
    "        loss = F.cross_entropy(logits, Ytr) # cross-entropy: exp(logits)/sum(exp(logits)) aummarized into one step, faster.\n",
    "        print(\"training loss:\", loss.item())\n",
    "    # stepi.append(i)\n",
    "    # lrei.append(lre[i])\n",
    "    # lossi.append(loss.item()) # this time printing log-loss\n",
    "\n",
    "    \n",
    "# print(loss.item())"
   ]
  },
  {
   "cell_type": "code",
   "execution_count": 1056,
   "id": "b3b88400-691f-4aea-bf84-7a9f2f2b12ca",
   "metadata": {},
   "outputs": [
    {
     "name": "stdout",
     "output_type": "stream",
     "text": [
      "training loss: 2.0692827701568604\n"
     ]
    }
   ],
   "source": [
    "emb = C[Xtr]\n",
    "h = torch.tanh(emb.view((-1, 40)) @ W1 + b1)\n",
    "logits = h @ W2 + b2\n",
    "loss = F.cross_entropy(logits, Ytr) # cross-entropy: exp(logits)/sum(exp(logits)) aummarized into one step, faster.\n",
    "print(\"training loss:\", loss.item())"
   ]
  },
  {
   "cell_type": "code",
   "execution_count": 1057,
   "id": "5324a309-e959-4083-9a75-8da863888779",
   "metadata": {},
   "outputs": [
    {
     "name": "stdout",
     "output_type": "stream",
     "text": [
      "validation loss: 2.1326630115509033\n"
     ]
    }
   ],
   "source": [
    "emb = C[Xdev]\n",
    "h = torch.tanh(emb.view((-1, 40)) @ W1 + b1)\n",
    "logits = h @ W2 + b2\n",
    "loss = F.cross_entropy(logits, Ydev) # cross-entropy: exp(logits)/sum(exp(logits)) aummarized into one step, faster.\n",
    "print(\"validation loss:\", loss.item())"
   ]
  },
  {
   "cell_type": "markdown",
   "id": "ddd66961-fd86-4938-98f0-7715fdd92d72",
   "metadata": {},
   "source": [
    "- this is the best hyperparameters so far, we will keep them"
   ]
  },
  {
   "cell_type": "code",
   "execution_count": 1075,
   "id": "826b4773-e8ea-4139-adff-ffd098a9b54c",
   "metadata": {},
   "outputs": [
    {
     "name": "stdout",
     "output_type": "stream",
     "text": [
      "testing loss: 2.1341936588287354\n"
     ]
    }
   ],
   "source": [
    "# finally, the test set\n",
    "emb = C[Xte]\n",
    "h = torch.tanh(emb.view((-1, 40)) @ W1 + b1)\n",
    "logits = h @ W2 + b2\n",
    "loss = F.cross_entropy(logits, Yte) # cross-entropy: exp(logits)/sum(exp(logits)) aummarized into one step, faster.\n",
    "print(\"testing loss:\", loss.item())"
   ]
  },
  {
   "cell_type": "markdown",
   "id": "60d03489-75b6-49a8-9f45-043eef2454a4",
   "metadata": {},
   "source": [
    "- the model have never seen the testing set before, the loss didn't increase indicating we are generalizing!"
   ]
  },
  {
   "cell_type": "markdown",
   "id": "3c152faf-613f-4465-a2d4-17df6c5e3472",
   "metadata": {},
   "source": [
    "## Generating names from the model"
   ]
  },
  {
   "cell_type": "code",
   "execution_count": 1073,
   "id": "8be76700-9ec8-4888-9989-91e7e5935c55",
   "metadata": {},
   "outputs": [
    {
     "name": "stdout",
     "output_type": "stream",
     "text": [
      "junide.\n",
      "jakarie.\n",
      "presty.\n",
      "adria.\n",
      "jiin.\n",
      "tolima.\n",
      "juhzen.\n",
      "lania.\n",
      "yanilee.\n",
      "asshedaine.\n",
      "imelys.\n",
      "jainay.\n",
      "arter.\n",
      "nouumera.\n",
      "oltume.\n",
      "ponts.\n",
      "jahruan.\n",
      "reora.\n",
      "yarion.\n",
      "kaevandyn.\n"
     ]
    }
   ],
   "source": [
    "g = torch.Generator().manual_seed(2147483647)\n",
    "block_size = 4\n",
    "\n",
    "for _ in range(20):\n",
    "    \n",
    "    out = []\n",
    "    context = [0] * block_size\n",
    "    while True:\n",
    "        emb = C[torch.tensor([context])]\n",
    "        h = torch.tanh(emb.view((-1, 40)) @ W1 + b1)\n",
    "        logits = h @ W2 + b2\n",
    "        probs = F.softmax(logits, dim=1)\n",
    "        ix = torch.multinomial(probs, num_samples=1, replacement=True, generator=g).item()\n",
    "        \n",
    "        out.append(ix)\n",
    "        context = context[1:] + [ix]\n",
    "        if ix == 0:\n",
    "            break\n",
    "    print(''.join(itos[i] for i in out))"
   ]
  },
  {
   "cell_type": "markdown",
   "id": "b1eef338-e90c-4bf1-b9e5-10e816710454",
   "metadata": {},
   "source": [
    "- we see that we are producing name-like words, more similar to names than the previous notebook "
   ]
  }
 ],
 "metadata": {
  "kernelspec": {
   "display_name": "Python 3 (ipykernel)",
   "language": "python",
   "name": "python3"
  },
  "language_info": {
   "codemirror_mode": {
    "name": "ipython",
    "version": 3
   },
   "file_extension": ".py",
   "mimetype": "text/x-python",
   "name": "python",
   "nbconvert_exporter": "python",
   "pygments_lexer": "ipython3",
   "version": "3.12.0"
  }
 },
 "nbformat": 4,
 "nbformat_minor": 5
}
